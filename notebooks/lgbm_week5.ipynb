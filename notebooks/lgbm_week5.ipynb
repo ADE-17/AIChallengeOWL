{
 "cells": [
  {
   "cell_type": "code",
   "execution_count": 1,
   "metadata": {},
   "outputs": [],
   "source": [
    "import pandas as pd\n",
    "import os\n",
    "import numpy as np\n",
    "import lightgbm as lgb\n",
    "from sklearn.multioutput import MultiOutputRegressor\n",
    "from sklearn.preprocessing import StandardScaler\n",
    "import xgboost as xgb\n",
    "import warnings\n",
    "warnings.filterwarnings('ignore')\n",
    "\n",
    "root_path = r'C:\\Users\\ADE17\\Desktop\\Masters\\Projects\\AIChallenge_OWL\\SollIch-Hackathon_Daten\\Data_Participants3'\n",
    "def load_data(root_path, mode='train'):\n",
    "    data_dict = {}\n",
    "    if mode == 'train':\n",
    "        x_folder = \"Train_X\"\n",
    "        y_folder = \"Train_Y\"\n",
    "    else:\n",
    "        x_folder = \"Eval_X\"\n",
    "        y_folder = \"Eval_Y\"\n",
    "    x_files = os.listdir(os.path.join(root_path, x_folder))\n",
    "    y_files = os.listdir(os.path.join(root_path, y_folder))\n",
    "\n",
    "    for x_file, y_file in zip(x_files, y_files):\n",
    "        if x_file.endswith('.pq') and y_file.endswith('.pq'):\n",
    "            path_X = os.path.join(x_folder, x_file)\n",
    "            path_Y = os.path.join(y_folder, y_file)\n",
    "            df_X = pd.read_parquet(os.path.join(root_path, path_X))\n",
    "            df_Y = pd.read_parquet(os.path.join(root_path, path_Y))\n",
    "            # target_col_1 = df_X['ProzessData_ActData_AB1_Temperature_DR1_WaterMixingStage']\n",
    "            targets = df_Y\n",
    "            df_X = df_X.drop(['ProzessData_ActData_AB1_Temperature_DR1_WaterMixingStage'], axis=1)\n",
    "            date = x_file.split('_')[1:]  # Extracting month and day\n",
    "            date_key = '_'.join(date)[:5]  # Creating the 'MM_DD' format\n",
    "            data_dict[date_key] = {'features': df_X, 'targets': targets}\n",
    "\n",
    "    return data_dict\n",
    "\n",
    "train_data = load_data(root_path)\n",
    "val_data = load_data(root_path, mode='val')\n",
    "def custom_weighted_error(true_values, predicted_values):\n",
    "    absolute_errors = np.abs(true_values - predicted_values)\n",
    "    \n",
    "    points = 0\n",
    "    for error in absolute_errors:\n",
    "        if error <= 0.05:\n",
    "            points += 1\n",
    "        elif 0.05 < error <= 0.1:\n",
    "            points += 0.5\n",
    "        elif 0.1 < error <= 0.5:\n",
    "            points += 0.25\n",
    "        else:\n",
    "            points += 0\n",
    "    \n",
    "    return points \n",
    "\n",
    "def custom_weighted_error_xgb(preds, dtrain):\n",
    "    true_values = dtrain.get_label()\n",
    "    \n",
    "    absolute_errors = np.abs(true_values - preds)\n",
    "    \n",
    "    points = 0\n",
    "    for error in absolute_errors:\n",
    "        if error <= 0.05:\n",
    "            points += 1\n",
    "        elif 0.05 < error <= 0.1:\n",
    "            points += 0.5\n",
    "        elif 0.1 < error <= 0.5:\n",
    "            points += 0.25\n",
    "        else:\n",
    "            points += 0\n",
    "    \n",
    "    return 'custom_weighted_error', points / len(preds) * 100\n",
    "\n",
    "def custom_error_duration(preds, dtrain):\n",
    "    true_values = dtrain.get_label()\n",
    "    \n",
    "    preds_array = preds.astype(float)\n",
    "    \n",
    "    absolute_errors = np.abs(true_values - preds_array)\n",
    "    \n",
    "    error_less_than_01 = np.sum(absolute_errors < 0.1) / len(absolute_errors)\n",
    "    \n",
    "    error_intervals = []\n",
    "    current_interval = 0\n",
    "    for error in absolute_errors:\n",
    "        if error > 0.1:\n",
    "            current_interval += 1\n",
    "        else:\n",
    "            if current_interval > 0:\n",
    "                error_intervals.append(current_interval)\n",
    "                current_interval = 0\n",
    "    \n",
    "    max_intervals_1 = len(absolute_errors) / 2\n",
    "    max_intervals_2 = len(absolute_errors) / 8\n",
    "    \n",
    "    points = 0\n",
    "    for interval in error_intervals:\n",
    "        if interval <= 1:\n",
    "            points += max(0, 0.5 - (interval / max_intervals_1))\n",
    "        elif 2 <= interval <= 10:\n",
    "            points += max(0, 0.25 - (interval / max_intervals_2))\n",
    "    \n",
    "    # Calculate the error duration metric\n",
    "    error_duration_points = (1 - error_less_than_01) * 100 + points\n",
    "    \n",
    "    return 'custom_error_duration', error_duration_points \n",
    "def add_time_columns(df):\n",
    "    df['Hour'] = df.index.hour\n",
    "    df['Minute'] = df.index.minute\n",
    "    df['Second'] = df.index.second\n",
    "    return df\n",
    "def calculate_points(estimated_values):\n",
    "    thresholds = [(0, 1), (2, 10)]\n",
    "    point_values = [0.5, 0.25]\n",
    "    num_estimates = len(estimated_values)\n",
    "    values_below_threshold = sum(1 for value in estimated_values if abs(value) <= 0.1)\n",
    "    thresh_arr = [1 if abs(i)>0.1 else 0 for i in estimated_values]\n",
    "    #print(thresh_arr)\n",
    "    err_points = 0  # sum for abserr > 0.1\n",
    "    count = 0\n",
    "    for i in thresh_arr:\n",
    "        if i == 1:\n",
    "            count = count +1\n",
    "        else:\n",
    "            if count == 1:\n",
    "                err_points = err_points + 0.5\n",
    "            elif count <= 10 and count >=2:\n",
    "                err_points = err_points + (0.25 * count)\n",
    "            count = 0\n",
    "    if count == 1:\n",
    "        err_points = err_points + 0.5\n",
    "    elif count <= 10 and count >=2:\n",
    "        err_points = err_points + (0.25 * count)\n",
    "    #print (err_points)\n",
    "    return (values_below_threshold + err_points) * 100 /  num_estimates\n",
    "def calculate_points(estimated_values):\n",
    "    num_estimates = len(estimated_values)\n",
    "    values_below_threshold = sum(1 for value in estimated_values if abs(value) <= 0.1)\n",
    "    thresh_arr = [1 if abs(i)>0.1 else 0 for i in estimated_values]\n",
    "    #print(thresh_arr)\n",
    "    err_points = 0  # sum for abserr > 0.1\n",
    "    count = 0\n",
    "    for i in thresh_arr:\n",
    "        if i == 1:\n",
    "            count = count +1\n",
    "        else:\n",
    "            if count == 1:\n",
    "                err_points = err_points + 0.5\n",
    "            elif count <= 10 and count >=2:\n",
    "                err_points = err_points + (0.25 * count)\n",
    "            count = 0\n",
    "    if count == 1:\n",
    "        err_points = err_points + 0.5\n",
    "    elif count <= 10 and count >=2:\n",
    "        err_points = err_points + (0.25 * count)\n",
    "    #print (err_points)\n",
    "    return (values_below_threshold + err_points) * 100 /  num_estimates"
   ]
  },
  {
   "cell_type": "code",
   "execution_count": 2,
   "metadata": {},
   "outputs": [],
   "source": [
    "notime_sample_train_targets_1 = train_data['04_11']['features']\n",
    "sample_train_features_1 = add_time_columns(train_data['04_11']['features'])\n",
    "sample_train_targets_1 = train_data['04_11']['targets']\n",
    "\n",
    "no_time_sample_train_targets_2 = train_data['04_12']['features']\n",
    "sample_train_features_2 = add_time_columns(train_data['04_12']['features'])\n",
    "sample_train_targets_2 = train_data['04_12']['targets']\n",
    "\n",
    "notime_final_train_feat = pd.concat([notime_sample_train_targets_1, no_time_sample_train_targets_2], axis=0)\n",
    "final_train_feat = pd.concat([sample_train_features_1, sample_train_features_2], axis=0)\n",
    "final_train_targets = pd.concat([sample_train_targets_1, sample_train_targets_2], axis=0)\n",
    "final_train_targets = final_train_targets['ProzessData_ActData_AB1_Temperature_DR1_MassMixingStage']\n",
    "\n",
    "notime_sample_val_features = val_data['04_13']['features']\n",
    "sample_val_features = add_time_columns(val_data['04_13']['features'])\n",
    "# sample_val_targets = val_data['03_16']['targets']\n",
    "sample_val_targets = val_data['04_13']['targets']['ProzessData_ActData_AB1_Temperature_DR1_MassMixingStage']\n"
   ]
  },
  {
   "cell_type": "code",
   "execution_count": null,
   "metadata": {},
   "outputs": [],
   "source": []
  },
  {
   "cell_type": "code",
   "execution_count": 3,
   "metadata": {},
   "outputs": [],
   "source": [
    "def add_rolling_features(data, window_sizes):\n",
    "    extended_data = data.copy()\n",
    "    \n",
    "    for window in window_sizes:\n",
    "        for col in data.columns:\n",
    "            # Rolling mean\n",
    "            extended_data[f'{col}_rolling_mean_{window}'] = data[col].rolling(window=window, min_periods=1).mean()\n",
    "            \n",
    "            # Rolling standard deviation\n",
    "            extended_data[f'{col}_rolling_std_{window}'] = data[col].rolling(window=window, min_periods=1).std()\n",
    "            \n",
    "            # Rolling maximum\n",
    "            extended_data[f'{col}_rolling_max_{window}'] = data[col].rolling(window=window, min_periods=1).max()\n",
    "    \n",
    "    return extended_data"
   ]
  },
  {
   "cell_type": "code",
   "execution_count": 4,
   "metadata": {},
   "outputs": [],
   "source": [
    "window_size = [1, 2, 3]\n",
    "train_features = add_rolling_features(final_train_feat, window_size)\n",
    "val_features = add_rolling_features(sample_val_features, window_size)\n",
    "notime_train_features = add_time_columns(add_rolling_features(notime_final_train_feat, window_size))\n",
    "notime_val_features = add_time_columns(add_rolling_features(notime_sample_val_features, window_size))"
   ]
  },
  {
   "cell_type": "code",
   "execution_count": 5,
   "metadata": {},
   "outputs": [
    {
     "name": "stdout",
     "output_type": "stream",
     "text": [
      "[0]\ttrain-mae:24.79517\ttrain-custom_weighted_error:0.00000\teval-mae:25.00784\teval-custom_weighted_error:0.00000\n",
      "[1]\ttrain-mae:17.35711\ttrain-custom_weighted_error:0.00000\teval-mae:17.52536\teval-custom_weighted_error:0.00000\n",
      "[2]\ttrain-mae:12.15037\ttrain-custom_weighted_error:0.00000\teval-mae:12.28875\teval-custom_weighted_error:0.00000\n",
      "[3]\ttrain-mae:8.50553\ttrain-custom_weighted_error:0.00000\teval-mae:8.62462\teval-custom_weighted_error:0.00000\n",
      "[4]\ttrain-mae:5.95409\ttrain-custom_weighted_error:0.00000\teval-mae:6.05399\teval-custom_weighted_error:0.00000\n",
      "[5]\ttrain-mae:4.16803\ttrain-custom_weighted_error:0.00000\teval-mae:4.21811\teval-custom_weighted_error:0.00000\n",
      "[6]\ttrain-mae:2.91775\ttrain-custom_weighted_error:0.00000\teval-mae:2.93335\teval-custom_weighted_error:0.04057\n",
      "[7]\ttrain-mae:2.04254\ttrain-custom_weighted_error:0.00000\teval-mae:2.03373\teval-custom_weighted_error:0.03363\n",
      "[8]\ttrain-mae:1.42988\ttrain-custom_weighted_error:0.00036\teval-mae:1.40885\teval-custom_weighted_error:0.05300\n",
      "[9]\ttrain-mae:1.00102\ttrain-custom_weighted_error:0.01590\teval-mae:0.96835\teval-custom_weighted_error:0.10051\n",
      "[10]\ttrain-mae:0.70079\ttrain-custom_weighted_error:0.31103\teval-mae:0.66592\teval-custom_weighted_error:6.16146\n",
      "[11]\ttrain-mae:0.49065\ttrain-custom_weighted_error:12.80555\teval-mae:0.44990\teval-custom_weighted_error:17.31444\n",
      "[12]\ttrain-mae:0.34359\ttrain-custom_weighted_error:24.85728\teval-mae:0.30025\teval-custom_weighted_error:26.01460\n",
      "[13]\ttrain-mae:0.24077\ttrain-custom_weighted_error:25.17014\teval-mae:0.19761\teval-custom_weighted_error:30.57229\n",
      "[14]\ttrain-mae:0.16886\ttrain-custom_weighted_error:27.32635\teval-mae:0.13316\teval-custom_weighted_error:40.78559\n",
      "[15]\ttrain-mae:0.11872\ttrain-custom_weighted_error:36.08335\teval-mae:0.09004\teval-custom_weighted_error:62.01737\n",
      "[16]\ttrain-mae:0.08388\ttrain-custom_weighted_error:50.82455\teval-mae:0.06737\teval-custom_weighted_error:69.19307\n",
      "[17]\ttrain-mae:0.06096\ttrain-custom_weighted_error:63.56559\teval-mae:0.06717\teval-custom_weighted_error:74.79642\n",
      "[18]\ttrain-mae:0.04630\ttrain-custom_weighted_error:80.14302\teval-mae:0.06937\teval-custom_weighted_error:64.52866\n",
      "[19]\ttrain-mae:0.03725\ttrain-custom_weighted_error:88.94059\teval-mae:0.07177\teval-custom_weighted_error:69.85826\n",
      "[20]\ttrain-mae:0.03159\ttrain-custom_weighted_error:90.99757\teval-mae:0.07374\teval-custom_weighted_error:68.35463\n",
      "[21]\ttrain-mae:0.02742\ttrain-custom_weighted_error:92.31901\teval-mae:0.07736\teval-custom_weighted_error:65.74867\n",
      "[22]\ttrain-mae:0.02513\ttrain-custom_weighted_error:92.94272\teval-mae:0.07925\teval-custom_weighted_error:65.47675\n",
      "[23]\ttrain-mae:0.02341\ttrain-custom_weighted_error:93.17755\teval-mae:0.08148\teval-custom_weighted_error:65.38245\n",
      "[24]\ttrain-mae:0.02235\ttrain-custom_weighted_error:93.43138\teval-mae:0.08233\teval-custom_weighted_error:64.83165\n",
      "[25]\ttrain-mae:0.02179\ttrain-custom_weighted_error:93.52367\teval-mae:0.08295\teval-custom_weighted_error:62.47167\n",
      "[26]\ttrain-mae:0.02143\ttrain-custom_weighted_error:93.62363\teval-mae:0.08336\teval-custom_weighted_error:62.46948\n",
      "[27]\ttrain-mae:0.02080\ttrain-custom_weighted_error:93.72378\teval-mae:0.08391\teval-custom_weighted_error:61.74288\n",
      "[28]\ttrain-mae:0.02030\ttrain-custom_weighted_error:93.95367\teval-mae:0.08446\teval-custom_weighted_error:61.68952\n",
      "[29]\ttrain-mae:0.02012\ttrain-custom_weighted_error:93.99917\teval-mae:0.08453\teval-custom_weighted_error:61.72607\n",
      "[30]\ttrain-mae:0.01982\ttrain-custom_weighted_error:94.09420\teval-mae:0.08497\teval-custom_weighted_error:61.62775\n",
      "[31]\ttrain-mae:0.01973\ttrain-custom_weighted_error:94.12472\teval-mae:0.08502\teval-custom_weighted_error:61.49545\n",
      "[32]\ttrain-mae:0.01968\ttrain-custom_weighted_error:94.16821\teval-mae:0.08515\teval-custom_weighted_error:61.42271\n",
      "[33]\ttrain-mae:0.01963\ttrain-custom_weighted_error:94.17753\teval-mae:0.08519\teval-custom_weighted_error:61.40955\n",
      "[34]\ttrain-mae:0.01955\ttrain-custom_weighted_error:94.22870\teval-mae:0.08521\teval-custom_weighted_error:61.41284\n",
      "[35]\ttrain-mae:0.01944\ttrain-custom_weighted_error:94.28590\teval-mae:0.08514\teval-custom_weighted_error:61.42527\n",
      "[36]\ttrain-mae:0.01908\ttrain-custom_weighted_error:94.45476\teval-mae:0.08477\teval-custom_weighted_error:61.60948\n",
      "[37]\ttrain-mae:0.01902\ttrain-custom_weighted_error:94.47431\teval-mae:0.08479\teval-custom_weighted_error:61.57330\n",
      "[38]\ttrain-mae:0.01879\ttrain-custom_weighted_error:94.52274\teval-mae:0.08491\teval-custom_weighted_error:61.48923\n",
      "[39]\ttrain-mae:0.01874\ttrain-custom_weighted_error:94.57555\teval-mae:0.08492\teval-custom_weighted_error:61.56087\n",
      "[40]\ttrain-mae:0.01856\ttrain-custom_weighted_error:94.65030\teval-mae:0.08485\teval-custom_weighted_error:61.69720\n",
      "[41]\ttrain-mae:0.01848\ttrain-custom_weighted_error:94.69233\teval-mae:0.08489\teval-custom_weighted_error:61.67819\n",
      "[42]\ttrain-mae:0.01845\ttrain-custom_weighted_error:94.72011\teval-mae:0.08490\teval-custom_weighted_error:61.67965\n",
      "[43]\ttrain-mae:0.01843\ttrain-custom_weighted_error:94.72961\teval-mae:0.08489\teval-custom_weighted_error:61.67929\n",
      "[44]\ttrain-mae:0.01833\ttrain-custom_weighted_error:94.77310\teval-mae:0.08482\teval-custom_weighted_error:61.71474\n",
      "[45]\ttrain-mae:0.01823\ttrain-custom_weighted_error:94.80892\teval-mae:0.08493\teval-custom_weighted_error:61.53163\n",
      "[46]\ttrain-mae:0.01807\ttrain-custom_weighted_error:94.87635\teval-mae:0.08545\teval-custom_weighted_error:61.20305\n",
      "[47]\ttrain-mae:0.01802\ttrain-custom_weighted_error:94.89225\teval-mae:0.08543\teval-custom_weighted_error:61.19391\n",
      "[48]\ttrain-mae:0.01800\ttrain-custom_weighted_error:94.92058\teval-mae:0.08540\teval-custom_weighted_error:61.23412\n",
      "[49]\ttrain-mae:0.01793\ttrain-custom_weighted_error:94.97504\teval-mae:0.08537\teval-custom_weighted_error:61.22973\n",
      "[50]\ttrain-mae:0.01784\ttrain-custom_weighted_error:95.00482\teval-mae:0.08534\teval-custom_weighted_error:61.24180\n",
      "[51]\ttrain-mae:0.01749\ttrain-custom_weighted_error:95.05307\teval-mae:0.08552\teval-custom_weighted_error:60.99984\n",
      "[52]\ttrain-mae:0.01725\ttrain-custom_weighted_error:95.20402\teval-mae:0.08551\teval-custom_weighted_error:61.01775\n",
      "[53]\ttrain-mae:0.01722\ttrain-custom_weighted_error:95.21608\teval-mae:0.08549\teval-custom_weighted_error:61.02323\n",
      "[54]\ttrain-mae:0.01707\ttrain-custom_weighted_error:95.23161\teval-mae:0.08528\teval-custom_weighted_error:60.86753\n",
      "[55]\ttrain-mae:0.01682\ttrain-custom_weighted_error:95.40321\teval-mae:0.08552\teval-custom_weighted_error:60.76629\n",
      "[56]\ttrain-mae:0.01662\ttrain-custom_weighted_error:95.47887\teval-mae:0.08557\teval-custom_weighted_error:60.57148\n",
      "[57]\ttrain-mae:0.01650\ttrain-custom_weighted_error:95.57426\teval-mae:0.08551\teval-custom_weighted_error:60.58501\n",
      "[58]\ttrain-mae:0.01649\ttrain-custom_weighted_error:95.57572\teval-mae:0.08547\teval-custom_weighted_error:60.64458\n",
      "[59]\ttrain-mae:0.01625\ttrain-custom_weighted_error:95.59893\teval-mae:0.08568\teval-custom_weighted_error:60.31162\n",
      "[60]\ttrain-mae:0.01623\ttrain-custom_weighted_error:95.60679\teval-mae:0.08567\teval-custom_weighted_error:60.31198\n",
      "[61]\ttrain-mae:0.01621\ttrain-custom_weighted_error:95.61775\teval-mae:0.08567\teval-custom_weighted_error:60.30614\n",
      "[62]\ttrain-mae:0.01615\ttrain-custom_weighted_error:95.64243\teval-mae:0.08558\teval-custom_weighted_error:60.32660\n",
      "[63]\ttrain-mae:0.01589\ttrain-custom_weighted_error:95.78990\teval-mae:0.08564\teval-custom_weighted_error:60.32770\n",
      "[64]\ttrain-mae:0.01586\ttrain-custom_weighted_error:95.80818\teval-mae:0.08566\teval-custom_weighted_error:60.30942\n",
      "[65]\ttrain-mae:0.01566\ttrain-custom_weighted_error:95.89571\teval-mae:0.08562\teval-custom_weighted_error:60.27215\n",
      "[66]\ttrain-mae:0.01562\ttrain-custom_weighted_error:95.90247\teval-mae:0.08565\teval-custom_weighted_error:60.01374\n",
      "[67]\ttrain-mae:0.01559\ttrain-custom_weighted_error:95.91015\teval-mae:0.08563\teval-custom_weighted_error:60.01447\n",
      "[68]\ttrain-mae:0.01555\ttrain-custom_weighted_error:95.93500\teval-mae:0.08563\teval-custom_weighted_error:60.02800\n",
      "[69]\ttrain-mae:0.01554\ttrain-custom_weighted_error:95.94560\teval-mae:0.08563\teval-custom_weighted_error:60.00022\n",
      "[70]\ttrain-mae:0.01550\ttrain-custom_weighted_error:95.96515\teval-mae:0.08560\teval-custom_weighted_error:59.94540\n",
      "[71]\ttrain-mae:0.01547\ttrain-custom_weighted_error:95.98343\teval-mae:0.08562\teval-custom_weighted_error:60.02069\n",
      "[72]\ttrain-mae:0.01536\ttrain-custom_weighted_error:96.03058\teval-mae:0.08551\teval-custom_weighted_error:60.34853\n",
      "[73]\ttrain-mae:0.01525\ttrain-custom_weighted_error:96.05762\teval-mae:0.08566\teval-custom_weighted_error:60.10731\n",
      "[74]\ttrain-mae:0.01521\ttrain-custom_weighted_error:96.07882\teval-mae:0.08564\teval-custom_weighted_error:60.12631\n",
      "[75]\ttrain-mae:0.01518\ttrain-custom_weighted_error:96.08577\teval-mae:0.08566\teval-custom_weighted_error:60.11060\n",
      "[76]\ttrain-mae:0.01516\ttrain-custom_weighted_error:96.09490\teval-mae:0.08565\teval-custom_weighted_error:60.11352\n",
      "[77]\ttrain-mae:0.01513\ttrain-custom_weighted_error:96.11884\teval-mae:0.08569\teval-custom_weighted_error:60.05248\n",
      "[78]\ttrain-mae:0.01512\ttrain-custom_weighted_error:96.13072\teval-mae:0.08571\teval-custom_weighted_error:60.09598\n",
      "[79]\ttrain-mae:0.01510\ttrain-custom_weighted_error:96.14498\teval-mae:0.08570\teval-custom_weighted_error:60.09707\n",
      "[80]\ttrain-mae:0.01509\ttrain-custom_weighted_error:96.15594\teval-mae:0.08569\teval-custom_weighted_error:60.09561\n",
      "[81]\ttrain-mae:0.01506\ttrain-custom_weighted_error:96.17056\teval-mae:0.08571\teval-custom_weighted_error:60.09890\n",
      "[82]\ttrain-mae:0.01505\ttrain-custom_weighted_error:96.17257\teval-mae:0.08571\teval-custom_weighted_error:60.09890\n",
      "[83]\ttrain-mae:0.01501\ttrain-custom_weighted_error:96.18883\teval-mae:0.08572\teval-custom_weighted_error:60.07478\n",
      "[84]\ttrain-mae:0.01498\ttrain-custom_weighted_error:96.22155\teval-mae:0.08575\teval-custom_weighted_error:60.01228\n",
      "[85]\ttrain-mae:0.01481\ttrain-custom_weighted_error:96.24896\teval-mae:0.08581\teval-custom_weighted_error:59.97866\n",
      "[86]\ttrain-mae:0.01480\ttrain-custom_weighted_error:96.26175\teval-mae:0.08578\teval-custom_weighted_error:59.99510\n",
      "[87]\ttrain-mae:0.01473\ttrain-custom_weighted_error:96.31073\teval-mae:0.08578\teval-custom_weighted_error:60.02105\n",
      "[88]\ttrain-mae:0.01464\ttrain-custom_weighted_error:96.36793\teval-mae:0.08568\teval-custom_weighted_error:60.01740\n",
      "[89]\ttrain-mae:0.01462\ttrain-custom_weighted_error:96.38730\teval-mae:0.08569\teval-custom_weighted_error:60.00936\n",
      "[90]\ttrain-mae:0.01461\ttrain-custom_weighted_error:96.39369\teval-mae:0.08568\teval-custom_weighted_error:60.01192\n",
      "[91]\ttrain-mae:0.01460\ttrain-custom_weighted_error:96.40301\teval-mae:0.08568\teval-custom_weighted_error:60.01338\n",
      "[92]\ttrain-mae:0.01455\ttrain-custom_weighted_error:96.41727\teval-mae:0.08568\teval-custom_weighted_error:59.99803\n",
      "[93]\ttrain-mae:0.01450\ttrain-custom_weighted_error:96.43774\teval-mae:0.08572\teval-custom_weighted_error:60.02434\n",
      "[94]\ttrain-mae:0.01450\ttrain-custom_weighted_error:96.43956\teval-mae:0.08572\teval-custom_weighted_error:60.02654\n",
      "[95]\ttrain-mae:0.01448\ttrain-custom_weighted_error:96.45491\teval-mae:0.08572\teval-custom_weighted_error:59.99839\n",
      "[96]\ttrain-mae:0.01446\ttrain-custom_weighted_error:96.45857\teval-mae:0.08574\teval-custom_weighted_error:59.95746\n",
      "[97]\ttrain-mae:0.01440\ttrain-custom_weighted_error:96.49841\teval-mae:0.08579\teval-custom_weighted_error:59.89605\n",
      "[98]\ttrain-mae:0.01434\ttrain-custom_weighted_error:96.52417\teval-mae:0.08578\teval-custom_weighted_error:59.89642\n",
      "[99]\ttrain-mae:0.01428\ttrain-custom_weighted_error:96.52783\teval-mae:0.08572\teval-custom_weighted_error:59.99620\n"
     ]
    }
   ],
   "source": [
    "# params = {\n",
    "#     'objective': 'reg:squarederror',\n",
    "#     'eta': 0.075,\n",
    "#     'max_depth': 6,\n",
    "#     'min_child_weight': 1,\n",
    "#     'subsample': 1.0,\n",
    "#     'colsample_bytree': 1.0,\n",
    "#     'eval_metric': 'mae',\n",
    "#     'seed': 5\n",
    "# }\n",
    "params = {'eval_metric': 'mae'}\n",
    "\n",
    "# Convert data into DMatrix format for XGBoost\n",
    "dtrain = xgb.DMatrix(train_features, label=final_train_targets)\n",
    "dvalid = xgb.DMatrix(val_features, label=sample_val_targets)\n",
    "# dtrain = xgb.DMatrix(notime_train_features, label=final_train_targets)\n",
    "# dvalid = xgb.DMatrix(notime_val_features, label=sample_val_targets)\n",
    "\n",
    "# Training the model\n",
    "num_round = 1000\n",
    "early_stopping_rounds = 100\n",
    "max_time_for_learner = 360  # in seconds\n",
    "\n",
    "watchlist = [(dtrain, 'train'), (dvalid, 'eval')]\n",
    "model = xgb.train(params, dtrain, num_boost_round=num_round, evals=watchlist,\n",
    "                  early_stopping_rounds=early_stopping_rounds,\n",
    "                  feval=custom_weighted_error_xgb,\n",
    "                  maximize=False, verbose_eval=True)"
   ]
  },
  {
   "cell_type": "code",
   "execution_count": 6,
   "metadata": {},
   "outputs": [
    {
     "name": "stdout",
     "output_type": "stream",
     "text": [
      "63.15733688103975\n"
     ]
    }
   ],
   "source": [
    "preds = model.predict(xgb.DMatrix(val_features))\n",
    "print(custom_weighted_error(sample_val_targets, preds.round(2))/len(preds) * 100)"
   ]
  },
  {
   "cell_type": "code",
   "execution_count": 7,
   "metadata": {},
   "outputs": [],
   "source": [
    "window_size = 10# Adjust the window size as needed\n",
    "smoothed_preds = pd.Series(preds.round(2)).rolling(window=window_size, min_periods=1).mean()"
   ]
  },
  {
   "cell_type": "code",
   "execution_count": 8,
   "metadata": {},
   "outputs": [
    {
     "name": "stdout",
     "output_type": "stream",
     "text": [
      "62.83680063156971\n"
     ]
    }
   ],
   "source": [
    "print(custom_weighted_error(sample_val_targets.to_numpy(), smoothed_preds) /len(preds) * 100)"
   ]
  },
  {
   "cell_type": "code",
   "execution_count": 9,
   "metadata": {},
   "outputs": [],
   "source": [
    "abs_errors_array = np.abs(smoothed_preds - sample_val_targets.to_numpy())"
   ]
  },
  {
   "cell_type": "code",
   "execution_count": 10,
   "metadata": {},
   "outputs": [
    {
     "data": {
      "text/plain": [
       "77.74776684551395"
      ]
     },
     "execution_count": 10,
     "metadata": {},
     "output_type": "execute_result"
    }
   ],
   "source": [
    "calculate_points(abs_errors_array)"
   ]
  },
  {
   "cell_type": "code",
   "execution_count": 12,
   "metadata": {},
   "outputs": [
    {
     "data": {
      "text/plain": [
       "<matplotlib.legend.Legend at 0x1ad00c6b6a0>"
      ]
     },
     "execution_count": 12,
     "metadata": {},
     "output_type": "execute_result"
    }
   ],
   "source": [
    "import matplotlib.pyplot as plt\n",
    "%matplotlib qt\n",
    "plt.plot(sample_val_targets.to_numpy().flatten(), label='true')\n",
    "# plt.plot(preds.round(2), label='preds')\n",
    "plt.plot(smoothed_preds, label='smooth')\n",
    "\n",
    "plt.legend()"
   ]
  },
  {
   "cell_type": "code",
   "execution_count": 47,
   "metadata": {},
   "outputs": [
    {
     "data": {
      "text/plain": [
       "<matplotlib.legend.Legend at 0x1f9eec38eb0>"
      ]
     },
     "execution_count": 47,
     "metadata": {},
     "output_type": "execute_result"
    }
   ],
   "source": [
    "import matplotlib.pyplot as plt\n",
    "%matplotlib qt\n",
    "plt.plot(np.abs(sample_val_targets_1.to_numpy().flatten() - preds), label='normal')\n",
    "plt.plot(np.abs(sample_val_targets_1.to_numpy().flatten() - smoothed_preds), label='smooth')\n",
    "plt.legend()"
   ]
  },
  {
   "cell_type": "code",
   "execution_count": null,
   "metadata": {},
   "outputs": [],
   "source": []
  },
  {
   "cell_type": "code",
   "execution_count": null,
   "metadata": {},
   "outputs": [],
   "source": []
  },
  {
   "cell_type": "code",
   "execution_count": null,
   "metadata": {},
   "outputs": [],
   "source": []
  },
  {
   "cell_type": "code",
   "execution_count": null,
   "metadata": {},
   "outputs": [],
   "source": []
  },
  {
   "cell_type": "code",
   "execution_count": null,
   "metadata": {},
   "outputs": [],
   "source": []
  },
  {
   "cell_type": "code",
   "execution_count": null,
   "metadata": {},
   "outputs": [],
   "source": []
  },
  {
   "cell_type": "code",
   "execution_count": null,
   "metadata": {},
   "outputs": [],
   "source": []
  },
  {
   "cell_type": "code",
   "execution_count": null,
   "metadata": {},
   "outputs": [],
   "source": []
  },
  {
   "cell_type": "code",
   "execution_count": null,
   "metadata": {},
   "outputs": [],
   "source": []
  },
  {
   "cell_type": "code",
   "execution_count": null,
   "metadata": {},
   "outputs": [],
   "source": []
  }
 ],
 "metadata": {
  "kernelspec": {
   "display_name": "base",
   "language": "python",
   "name": "python3"
  },
  "language_info": {
   "codemirror_mode": {
    "name": "ipython",
    "version": 3
   },
   "file_extension": ".py",
   "mimetype": "text/x-python",
   "name": "python",
   "nbconvert_exporter": "python",
   "pygments_lexer": "ipython3",
   "version": "3.9.12"
  }
 },
 "nbformat": 4,
 "nbformat_minor": 2
}
