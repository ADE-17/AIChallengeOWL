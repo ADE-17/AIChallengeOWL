{
 "cells": [
  {
   "cell_type": "code",
   "execution_count": 15,
   "metadata": {},
   "outputs": [],
   "source": [
    "import pandas as pd\n",
    "import os\n",
    "import numpy as np\n",
    "import lightgbm as lgb\n",
    "from sklearn.multioutput import MultiOutputRegressor\n",
    "from sklearn.preprocessing import StandardScaler\n",
    "import xgboost as xgb\n",
    "import warnings\n",
    "warnings.filterwarnings('ignore')\n",
    "\n",
    "root_path = r'C:\\Users\\ADE17\\Desktop\\Masters\\Projects\\AIChallenge_OWL\\SollIch-Hackathon_Daten\\Data_Participants3'\n",
    "def load_data(root_path, mode='train'):\n",
    "    data_dict = {}\n",
    "    if mode == 'train':\n",
    "        x_folder = \"Train_X\"\n",
    "        y_folder = \"Train_Y\"\n",
    "    else:\n",
    "        x_folder = \"Eval_X\"\n",
    "        y_folder = \"Eval_Y\"\n",
    "    x_files = os.listdir(os.path.join(root_path, x_folder))\n",
    "    y_files = os.listdir(os.path.join(root_path, y_folder))\n",
    "\n",
    "    for x_file, y_file in zip(x_files, y_files):\n",
    "        if x_file.endswith('.pq') and y_file.endswith('.pq'):\n",
    "            path_X = os.path.join(x_folder, x_file)\n",
    "            path_Y = os.path.join(y_folder, y_file)\n",
    "            df_X = pd.read_parquet(os.path.join(root_path, path_X))\n",
    "            df_Y = pd.read_parquet(os.path.join(root_path, path_Y))\n",
    "            # target_col_1 = df_X['ProzessData_ActData_AB1_Temperature_DR1_WaterMixingStage']\n",
    "            targets = df_Y\n",
    "            df_X = df_X.drop(['ProzessData_ActData_AB1_Temperature_DR1_WaterMixingStage'], axis=1)\n",
    "            date = x_file.split('_')[1:]  # Extracting month and day\n",
    "            date_key = '_'.join(date)[:5]  # Creating the 'MM_DD' format\n",
    "            data_dict[date_key] = {'features': df_X, 'targets': targets}\n",
    "\n",
    "    return data_dict\n",
    "\n",
    "train_data = load_data(root_path)\n",
    "val_data = load_data(root_path, mode='val')\n",
    "def custom_weighted_error(true_values, predicted_values):\n",
    "    absolute_errors = np.abs(true_values - predicted_values)\n",
    "    \n",
    "    points = 0\n",
    "    for error in absolute_errors:\n",
    "        if error <= 0.05:\n",
    "            points += 1\n",
    "        elif 0.05 < error <= 0.1:\n",
    "            points += 0.5\n",
    "        elif 0.1 < error <= 0.5:\n",
    "            points += 0.25\n",
    "        else:\n",
    "            points += 0\n",
    "    \n",
    "    return points \n",
    "\n",
    "def custom_weighted_error_xgb(preds, dtrain):\n",
    "    true_values = dtrain.get_label()\n",
    "    \n",
    "    absolute_errors = np.abs(true_values - preds)\n",
    "    \n",
    "    points = 0\n",
    "    for error in absolute_errors:\n",
    "        if error <= 0.05:\n",
    "            points += 1\n",
    "        elif 0.05 < error <= 0.1:\n",
    "            points += 0.5\n",
    "        elif 0.1 < error <= 0.5:\n",
    "            points += 0.25\n",
    "        else:\n",
    "            points += 0\n",
    "    \n",
    "    return 'custom_weighted_error', points / len(preds) * 100\n",
    "\n",
    "def custom_error_duration(preds, dtrain):\n",
    "    true_values = dtrain.get_label()\n",
    "    \n",
    "    preds_array = preds.astype(float)\n",
    "    \n",
    "    absolute_errors = np.abs(true_values - preds_array)\n",
    "    \n",
    "    error_less_than_01 = np.sum(absolute_errors < 0.1) / len(absolute_errors)\n",
    "    \n",
    "    error_intervals = []\n",
    "    current_interval = 0\n",
    "    for error in absolute_errors:\n",
    "        if error > 0.1:\n",
    "            current_interval += 1\n",
    "        else:\n",
    "            if current_interval > 0:\n",
    "                error_intervals.append(current_interval)\n",
    "                current_interval = 0\n",
    "    \n",
    "    max_intervals_1 = len(absolute_errors) / 2\n",
    "    max_intervals_2 = len(absolute_errors) / 8\n",
    "    \n",
    "    points = 0\n",
    "    for interval in error_intervals:\n",
    "        if interval <= 1:\n",
    "            points += max(0, 0.5 - (interval / max_intervals_1))\n",
    "        elif 2 <= interval <= 10:\n",
    "            points += max(0, 0.25 - (interval / max_intervals_2))\n",
    "    \n",
    "    # Calculate the error duration metric\n",
    "    error_duration_points = (1 - error_less_than_01) * 100 + points\n",
    "    \n",
    "    return 'custom_error_duration', error_duration_points \n",
    "def add_time_columns(df):\n",
    "    df['Hour'] = df.index.hour\n",
    "    df['Minute'] = df.index.minute\n",
    "    df['Second'] = df.index.second\n",
    "    return df\n",
    "def calculate_points(estimated_values):\n",
    "    thresholds = [(0, 1), (2, 10)]\n",
    "    point_values = [0.5, 0.25]\n",
    "    num_estimates = len(estimated_values)\n",
    "    values_below_threshold = sum(1 for value in estimated_values if abs(value) <= 0.1)\n",
    "    thresh_arr = [1 if abs(i)>0.1 else 0 for i in estimated_values]\n",
    "    #print(thresh_arr)\n",
    "    err_points = 0  # sum for abserr > 0.1\n",
    "    count = 0\n",
    "    for i in thresh_arr:\n",
    "        if i == 1:\n",
    "            count = count +1\n",
    "        else:\n",
    "            if count == 1:\n",
    "                err_points = err_points + 0.5\n",
    "            elif count <= 10 and count >=2:\n",
    "                err_points = err_points + (0.25 * count)\n",
    "            count = 0\n",
    "    if count == 1:\n",
    "        err_points = err_points + 0.5\n",
    "    elif count <= 10 and count >=2:\n",
    "        err_points = err_points + (0.25 * count)\n",
    "    #print (err_points)\n",
    "    return (values_below_threshold + err_points) * 100 /  num_estimates\n",
    "def calculate_points(estimated_values):\n",
    "    num_estimates = len(estimated_values)\n",
    "    values_below_threshold = sum(1 for value in estimated_values if abs(value) <= 0.1)\n",
    "    thresh_arr = [1 if abs(i)>0.1 else 0 for i in estimated_values]\n",
    "    #print(thresh_arr)\n",
    "    err_points = 0  # sum for abserr > 0.1\n",
    "    count = 0\n",
    "    for i in thresh_arr:\n",
    "        if i == 1:\n",
    "            count = count +1\n",
    "        else:\n",
    "            if count == 1:\n",
    "                err_points = err_points + 0.5\n",
    "            elif count <= 10 and count >=2:\n",
    "                err_points = err_points + (0.25 * count)\n",
    "            count = 0\n",
    "    if count == 1:\n",
    "        err_points = err_points + 0.5\n",
    "    elif count <= 10 and count >=2:\n",
    "        err_points = err_points + (0.25 * count)\n",
    "    #print (err_points)\n",
    "    return (values_below_threshold + err_points) * 100 /  num_estimates"
   ]
  },
  {
   "cell_type": "code",
   "execution_count": 16,
   "metadata": {},
   "outputs": [],
   "source": [
    "notime_sample_train_targets_1 = train_data['03_14']['features']\n",
    "sample_train_features_1 = add_time_columns(train_data['03_14']['features'])\n",
    "sample_train_targets_1 = train_data['03_14']['targets']\n",
    "\n",
    "no_time_sample_train_targets_2 = train_data['03_15']['features']\n",
    "sample_train_features_2 = add_time_columns(train_data['03_15']['features'])\n",
    "sample_train_targets_2 = train_data['03_15']['targets']\n",
    "\n",
    "notime_final_train_feat = pd.concat([notime_sample_train_targets_1, no_time_sample_train_targets_2], axis=0)\n",
    "final_train_feat = pd.concat([sample_train_features_1, sample_train_features_2], axis=0)\n",
    "final_train_targets = pd.concat([sample_train_targets_1, sample_train_targets_2], axis=0)\n",
    "final_train_targets = final_train_targets['ProzessData_ActData_AB1_Temperature_DR1_MassMixingStage']\n",
    "\n",
    "notime_sample_val_features = val_data['03_16']['features']\n",
    "sample_val_features = add_time_columns(val_data['03_16']['features'])\n",
    "# sample_val_targets = val_data['03_16']['targets']\n",
    "sample_val_targets = val_data['03_16']['targets']['ProzessData_ActData_AB1_Temperature_DR1_MassMixingStage']\n"
   ]
  },
  {
   "cell_type": "code",
   "execution_count": 17,
   "metadata": {},
   "outputs": [],
   "source": [
    "def add_rolling_features(data, window_sizes):\n",
    "    extended_data = data.copy()\n",
    "    \n",
    "    for window in window_sizes:\n",
    "        for col in data.columns:\n",
    "            # Rolling mean\n",
    "            extended_data[f'{col}_rolling_mean_{window}'] = data[col].rolling(window=window, min_periods=1).mean()\n",
    "            \n",
    "            # Rolling standard deviation\n",
    "            extended_data[f'{col}_rolling_std_{window}'] = data[col].rolling(window=window, min_periods=1).std()\n",
    "            \n",
    "            # Rolling maximum\n",
    "            extended_data[f'{col}_rolling_max_{window}'] = data[col].rolling(window=window, min_periods=1).max()\n",
    "    \n",
    "    return extended_data"
   ]
  },
  {
   "cell_type": "code",
   "execution_count": 18,
   "metadata": {},
   "outputs": [],
   "source": [
    "window_size = [1, 2, 3]\n",
    "train_features = add_rolling_features(final_train_feat, window_size)\n",
    "val_features = add_rolling_features(sample_val_features, window_size)\n",
    "notime_train_features = add_time_columns(add_rolling_features(notime_final_train_feat, window_size))\n",
    "notime_val_features = add_time_columns(add_rolling_features(notime_sample_val_features, window_size))"
   ]
  },
  {
   "cell_type": "code",
   "execution_count": 19,
   "metadata": {},
   "outputs": [
    {
     "data": {
      "text/plain": [
       "(136802, 160)"
      ]
     },
     "execution_count": 19,
     "metadata": {},
     "output_type": "execute_result"
    }
   ],
   "source": [
    "notime_train_features.shape"
   ]
  },
  {
   "cell_type": "code",
   "execution_count": 9,
   "metadata": {},
   "outputs": [
    {
     "data": {
      "text/plain": [
       "(68401, 170)"
      ]
     },
     "execution_count": 9,
     "metadata": {},
     "output_type": "execute_result"
    }
   ],
   "source": [
    "notime_val_features.shape"
   ]
  },
  {
   "cell_type": "code",
   "execution_count": 20,
   "metadata": {},
   "outputs": [
    {
     "name": "stdout",
     "output_type": "stream",
     "text": [
      "[0]\ttrain-mae:24.86623\ttrain-custom_weighted_error:0.00000\teval-mae:24.79255\teval-custom_weighted_error:0.00000\n",
      "[1]\ttrain-mae:17.40678\ttrain-custom_weighted_error:0.00000\teval-mae:17.35577\teval-custom_weighted_error:0.00000\n",
      "[2]\ttrain-mae:12.18512\ttrain-custom_weighted_error:0.00000\teval-mae:12.14606\teval-custom_weighted_error:0.00000\n",
      "[3]\ttrain-mae:8.52982\ttrain-custom_weighted_error:0.00000\teval-mae:8.50097\teval-custom_weighted_error:0.00000\n",
      "[4]\ttrain-mae:5.97109\ttrain-custom_weighted_error:0.00000\teval-mae:5.94694\teval-custom_weighted_error:0.00000\n",
      "[5]\ttrain-mae:4.17995\ttrain-custom_weighted_error:0.00000\teval-mae:4.16039\teval-custom_weighted_error:0.00000\n",
      "[6]\ttrain-mae:2.92612\ttrain-custom_weighted_error:0.00000\teval-mae:2.91030\teval-custom_weighted_error:0.00000\n",
      "[7]\ttrain-mae:2.04840\ttrain-custom_weighted_error:0.00000\teval-mae:2.03497\teval-custom_weighted_error:0.00000\n",
      "[8]\ttrain-mae:1.43399\ttrain-custom_weighted_error:0.00000\teval-mae:1.42251\teval-custom_weighted_error:0.00073\n",
      "[9]\ttrain-mae:1.00388\ttrain-custom_weighted_error:0.01480\teval-mae:0.99388\teval-custom_weighted_error:0.02449\n",
      "[10]\ttrain-mae:0.70280\ttrain-custom_weighted_error:0.55701\teval-mae:0.69591\teval-custom_weighted_error:0.68822\n",
      "[11]\ttrain-mae:0.49204\ttrain-custom_weighted_error:11.82201\teval-mae:0.48778\teval-custom_weighted_error:12.26152\n",
      "[12]\ttrain-mae:0.34454\ttrain-custom_weighted_error:24.76535\teval-mae:0.34121\teval-custom_weighted_error:24.83772\n",
      "[13]\ttrain-mae:0.24134\ttrain-custom_weighted_error:25.24250\teval-mae:0.23964\teval-custom_weighted_error:25.57236\n",
      "[14]\ttrain-mae:0.16932\ttrain-custom_weighted_error:26.64910\teval-mae:0.16837\teval-custom_weighted_error:26.82673\n",
      "[15]\ttrain-mae:0.11899\ttrain-custom_weighted_error:34.36189\teval-mae:0.11963\teval-custom_weighted_error:34.12560\n",
      "[16]\ttrain-mae:0.08431\ttrain-custom_weighted_error:53.89998\teval-mae:0.08664\teval-custom_weighted_error:53.55368\n",
      "[17]\ttrain-mae:0.06071\ttrain-custom_weighted_error:63.29147\teval-mae:0.06402\teval-custom_weighted_error:62.95668\n",
      "[18]\ttrain-mae:0.04484\ttrain-custom_weighted_error:92.12237\teval-mae:0.04848\teval-custom_weighted_error:92.84075\n",
      "[19]\ttrain-mae:0.03437\ttrain-custom_weighted_error:93.13990\teval-mae:0.03806\teval-custom_weighted_error:94.88385\n",
      "[20]\ttrain-mae:0.02755\ttrain-custom_weighted_error:93.70203\teval-mae:0.03120\teval-custom_weighted_error:94.98216\n",
      "[21]\ttrain-mae:0.02319\ttrain-custom_weighted_error:94.11357\teval-mae:0.02762\teval-custom_weighted_error:95.07792\n",
      "[22]\ttrain-mae:0.02033\ttrain-custom_weighted_error:94.52768\teval-mae:0.02462\teval-custom_weighted_error:95.13859\n",
      "[23]\ttrain-mae:0.01843\ttrain-custom_weighted_error:94.68867\teval-mae:0.02276\teval-custom_weighted_error:94.96316\n",
      "[24]\ttrain-mae:0.01714\ttrain-custom_weighted_error:94.80326\teval-mae:0.02153\teval-custom_weighted_error:95.05343\n",
      "[25]\ttrain-mae:0.01617\ttrain-custom_weighted_error:95.04722\teval-mae:0.02058\teval-custom_weighted_error:95.07098\n",
      "[26]\ttrain-mae:0.01554\ttrain-custom_weighted_error:95.16071\teval-mae:0.01996\teval-custom_weighted_error:95.08998\n",
      "[27]\ttrain-mae:0.01488\ttrain-custom_weighted_error:95.29521\teval-mae:0.01934\teval-custom_weighted_error:95.12105\n",
      "[28]\ttrain-mae:0.01460\ttrain-custom_weighted_error:95.32975\teval-mae:0.01906\teval-custom_weighted_error:95.11484\n",
      "[29]\ttrain-mae:0.01436\ttrain-custom_weighted_error:95.38823\teval-mae:0.01896\teval-custom_weighted_error:95.12251\n",
      "[30]\ttrain-mae:0.01422\ttrain-custom_weighted_error:95.44616\teval-mae:0.01894\teval-custom_weighted_error:95.15906\n",
      "[31]\ttrain-mae:0.01404\ttrain-custom_weighted_error:95.46206\teval-mae:0.01875\teval-custom_weighted_error:95.16857\n",
      "[32]\ttrain-mae:0.01364\ttrain-custom_weighted_error:95.56092\teval-mae:0.01853\teval-custom_weighted_error:95.15943\n",
      "[33]\ttrain-mae:0.01352\ttrain-custom_weighted_error:95.59034\teval-mae:0.01852\teval-custom_weighted_error:95.15870\n",
      "[34]\ttrain-mae:0.01345\ttrain-custom_weighted_error:95.62196\teval-mae:0.01848\teval-custom_weighted_error:95.16199\n",
      "[35]\ttrain-mae:0.01332\ttrain-custom_weighted_error:95.66326\teval-mae:0.01842\teval-custom_weighted_error:95.16857\n",
      "[36]\ttrain-mae:0.01319\ttrain-custom_weighted_error:95.75481\teval-mae:0.01841\teval-custom_weighted_error:95.18903\n",
      "[37]\ttrain-mae:0.01308\ttrain-custom_weighted_error:95.84363\teval-mae:0.01846\teval-custom_weighted_error:95.18976\n",
      "[38]\ttrain-mae:0.01301\ttrain-custom_weighted_error:95.89132\teval-mae:0.01844\teval-custom_weighted_error:95.18940\n",
      "[39]\ttrain-mae:0.01299\ttrain-custom_weighted_error:95.90521\teval-mae:0.01844\teval-custom_weighted_error:95.18757\n",
      "[40]\ttrain-mae:0.01295\ttrain-custom_weighted_error:95.90613\teval-mae:0.01841\teval-custom_weighted_error:95.18465\n",
      "[41]\ttrain-mae:0.01273\ttrain-custom_weighted_error:96.05890\teval-mae:0.01846\teval-custom_weighted_error:95.16893\n",
      "[42]\ttrain-mae:0.01265\ttrain-custom_weighted_error:96.10258\teval-mae:0.01842\teval-custom_weighted_error:95.17368\n",
      "[43]\ttrain-mae:0.01259\ttrain-custom_weighted_error:96.15905\teval-mae:0.01840\teval-custom_weighted_error:95.19159\n",
      "[44]\ttrain-mae:0.01254\ttrain-custom_weighted_error:96.17568\teval-mae:0.01843\teval-custom_weighted_error:95.18209\n",
      "[45]\ttrain-mae:0.01246\ttrain-custom_weighted_error:96.26285\teval-mae:0.01844\teval-custom_weighted_error:95.19196\n",
      "[46]\ttrain-mae:0.01222\ttrain-custom_weighted_error:96.34198\teval-mae:0.01846\teval-custom_weighted_error:95.20219\n",
      "[47]\ttrain-mae:0.01217\ttrain-custom_weighted_error:96.36811\teval-mae:0.01843\teval-custom_weighted_error:95.20804\n",
      "[48]\ttrain-mae:0.01216\ttrain-custom_weighted_error:96.37158\teval-mae:0.01843\teval-custom_weighted_error:95.20658\n",
      "[49]\ttrain-mae:0.01195\ttrain-custom_weighted_error:96.48616\teval-mae:0.01846\teval-custom_weighted_error:95.21242\n",
      "[50]\ttrain-mae:0.01188\ttrain-custom_weighted_error:96.51376\teval-mae:0.01839\teval-custom_weighted_error:95.23582\n",
      "[51]\ttrain-mae:0.01184\ttrain-custom_weighted_error:96.54428\teval-mae:0.01839\teval-custom_weighted_error:95.23947\n",
      "[52]\ttrain-mae:0.01179\ttrain-custom_weighted_error:96.56292\teval-mae:0.01839\teval-custom_weighted_error:95.23801\n",
      "[53]\ttrain-mae:0.01177\ttrain-custom_weighted_error:96.56913\teval-mae:0.01835\teval-custom_weighted_error:95.24203\n",
      "[54]\ttrain-mae:0.01173\ttrain-custom_weighted_error:96.59124\teval-mae:0.01835\teval-custom_weighted_error:95.24093\n",
      "[55]\ttrain-mae:0.01171\ttrain-custom_weighted_error:96.61006\teval-mae:0.01835\teval-custom_weighted_error:95.23947\n",
      "[56]\ttrain-mae:0.01166\ttrain-custom_weighted_error:96.66087\teval-mae:0.01840\teval-custom_weighted_error:95.23984\n",
      "[57]\ttrain-mae:0.01160\ttrain-custom_weighted_error:96.69248\teval-mae:0.01840\teval-custom_weighted_error:95.24313\n",
      "[58]\ttrain-mae:0.01156\ttrain-custom_weighted_error:96.70765\teval-mae:0.01840\teval-custom_weighted_error:95.24751\n",
      "[59]\ttrain-mae:0.01155\ttrain-custom_weighted_error:96.71277\teval-mae:0.01840\teval-custom_weighted_error:95.24678\n",
      "[60]\ttrain-mae:0.01153\ttrain-custom_weighted_error:96.71989\teval-mae:0.01840\teval-custom_weighted_error:95.24678\n",
      "[61]\ttrain-mae:0.01151\ttrain-custom_weighted_error:96.74420\teval-mae:0.01842\teval-custom_weighted_error:95.24715\n",
      "[62]\ttrain-mae:0.01150\ttrain-custom_weighted_error:96.75005\teval-mae:0.01842\teval-custom_weighted_error:95.24824\n",
      "[63]\ttrain-mae:0.01148\ttrain-custom_weighted_error:96.75791\teval-mae:0.01842\teval-custom_weighted_error:95.24861\n",
      "[64]\ttrain-mae:0.01136\ttrain-custom_weighted_error:96.82589\teval-mae:0.01838\teval-custom_weighted_error:95.23764\n",
      "[65]\ttrain-mae:0.01130\ttrain-custom_weighted_error:96.86317\teval-mae:0.01840\teval-custom_weighted_error:95.22924\n",
      "[66]\ttrain-mae:0.01129\ttrain-custom_weighted_error:96.87267\teval-mae:0.01841\teval-custom_weighted_error:95.22850\n",
      "[67]\ttrain-mae:0.01126\ttrain-custom_weighted_error:96.88711\teval-mae:0.01841\teval-custom_weighted_error:95.22485\n",
      "[68]\ttrain-mae:0.01123\ttrain-custom_weighted_error:96.89917\teval-mae:0.01843\teval-custom_weighted_error:95.22302\n",
      "[69]\ttrain-mae:0.01119\ttrain-custom_weighted_error:96.90849\teval-mae:0.01835\teval-custom_weighted_error:95.22412\n",
      "[70]\ttrain-mae:0.01108\ttrain-custom_weighted_error:96.98104\teval-mae:0.01846\teval-custom_weighted_error:95.20365\n",
      "[71]\ttrain-mae:0.01103\ttrain-custom_weighted_error:97.01192\teval-mae:0.01847\teval-custom_weighted_error:95.18063\n",
      "[72]\ttrain-mae:0.01097\ttrain-custom_weighted_error:97.05377\teval-mae:0.01850\teval-custom_weighted_error:95.17624\n",
      "[73]\ttrain-mae:0.01091\ttrain-custom_weighted_error:97.08648\teval-mae:0.01859\teval-custom_weighted_error:95.17039\n",
      "[74]\ttrain-mae:0.01081\ttrain-custom_weighted_error:97.13820\teval-mae:0.01858\teval-custom_weighted_error:95.16418\n",
      "[75]\ttrain-mae:0.01076\ttrain-custom_weighted_error:97.15830\teval-mae:0.01860\teval-custom_weighted_error:95.17770\n",
      "[76]\ttrain-mae:0.01074\ttrain-custom_weighted_error:97.16177\teval-mae:0.01860\teval-custom_weighted_error:95.17770\n",
      "[77]\ttrain-mae:0.01069\ttrain-custom_weighted_error:97.17329\teval-mae:0.01857\teval-custom_weighted_error:95.20146\n",
      "[78]\ttrain-mae:0.01064\ttrain-custom_weighted_error:97.19777\teval-mae:0.01851\teval-custom_weighted_error:95.18867\n",
      "[79]\ttrain-mae:0.01056\ttrain-custom_weighted_error:97.22555\teval-mae:0.01851\teval-custom_weighted_error:95.20109\n",
      "[80]\ttrain-mae:0.01049\ttrain-custom_weighted_error:97.25662\teval-mae:0.01846\teval-custom_weighted_error:95.18245\n",
      "[81]\ttrain-mae:0.01046\ttrain-custom_weighted_error:97.27270\teval-mae:0.01845\teval-custom_weighted_error:95.18903\n",
      "[82]\ttrain-mae:0.01038\ttrain-custom_weighted_error:97.29646\teval-mae:0.01836\teval-custom_weighted_error:95.19123\n",
      "[83]\ttrain-mae:0.01036\ttrain-custom_weighted_error:97.30669\teval-mae:0.01835\teval-custom_weighted_error:95.19598\n",
      "[84]\ttrain-mae:0.01030\ttrain-custom_weighted_error:97.36078\teval-mae:0.01839\teval-custom_weighted_error:95.20438\n",
      "[85]\ttrain-mae:0.01026\ttrain-custom_weighted_error:97.38271\teval-mae:0.01842\teval-custom_weighted_error:95.14956\n",
      "[86]\ttrain-mae:0.01019\ttrain-custom_weighted_error:97.40921\teval-mae:0.01842\teval-custom_weighted_error:95.14956\n",
      "[87]\ttrain-mae:0.01018\ttrain-custom_weighted_error:97.41287\teval-mae:0.01842\teval-custom_weighted_error:95.15139\n",
      "[88]\ttrain-mae:0.01015\ttrain-custom_weighted_error:97.42036\teval-mae:0.01840\teval-custom_weighted_error:95.14481\n",
      "[89]\ttrain-mae:0.01000\ttrain-custom_weighted_error:97.49126\teval-mae:0.01842\teval-custom_weighted_error:95.15175\n",
      "[90]\ttrain-mae:0.00995\ttrain-custom_weighted_error:97.51192\teval-mae:0.01841\teval-custom_weighted_error:95.14444\n",
      "[91]\ttrain-mae:0.00988\ttrain-custom_weighted_error:97.53659\teval-mae:0.01841\teval-custom_weighted_error:95.14590\n",
      "[92]\ttrain-mae:0.00987\ttrain-custom_weighted_error:97.54262\teval-mae:0.01841\teval-custom_weighted_error:95.14810\n",
      "[93]\ttrain-mae:0.00984\ttrain-custom_weighted_error:97.55249\teval-mae:0.01839\teval-custom_weighted_error:95.13823\n",
      "[94]\ttrain-mae:0.00982\ttrain-custom_weighted_error:97.56162\teval-mae:0.01838\teval-custom_weighted_error:95.15687\n",
      "[95]\ttrain-mae:0.00979\ttrain-custom_weighted_error:97.59598\teval-mae:0.01837\teval-custom_weighted_error:95.15870\n",
      "[96]\ttrain-mae:0.00976\ttrain-custom_weighted_error:97.60950\teval-mae:0.01839\teval-custom_weighted_error:95.15687\n",
      "[97]\ttrain-mae:0.00968\ttrain-custom_weighted_error:97.64422\teval-mae:0.01841\teval-custom_weighted_error:95.16052\n",
      "[98]\ttrain-mae:0.00964\ttrain-custom_weighted_error:97.66250\teval-mae:0.01840\teval-custom_weighted_error:95.16016\n",
      "[99]\ttrain-mae:0.00960\ttrain-custom_weighted_error:97.67840\teval-mae:0.01840\teval-custom_weighted_error:95.16308\n"
     ]
    }
   ],
   "source": [
    "# params = {\n",
    "#     'objective': 'reg:squarederror',\n",
    "#     'eta': 0.075,\n",
    "#     'max_depth': 6,\n",
    "#     'min_child_weight': 1,\n",
    "#     'subsample': 1.0,\n",
    "#     'colsample_bytree': 1.0,\n",
    "#     'eval_metric': 'mae',\n",
    "#     'seed': 5\n",
    "# }\n",
    "params = {'eval_metric': 'mae'}\n",
    "\n",
    "# Convert data into DMatrix format for XGBoost\n",
    "dtrain = xgb.DMatrix(train_features, label=final_train_targets)\n",
    "dvalid = xgb.DMatrix(val_features, label=sample_val_targets)\n",
    "# dtrain = xgb.DMatrix(notime_train_features, label=final_train_targets)\n",
    "# dvalid = xgb.DMatrix(notime_val_features, label=sample_val_targets)\n",
    "\n",
    "# Training the model\n",
    "num_round = 1000\n",
    "early_stopping_rounds = 100\n",
    "max_time_for_learner = 360  # in seconds\n",
    "\n",
    "watchlist = [(dtrain, 'train'), (dvalid, 'eval')]\n",
    "model = xgb.train(params, dtrain, num_boost_round=num_round, evals=watchlist,\n",
    "                  early_stopping_rounds=early_stopping_rounds,\n",
    "                  feval=custom_weighted_error_xgb,\n",
    "                  maximize=False, verbose_eval=True)"
   ]
  },
  {
   "cell_type": "code",
   "execution_count": 21,
   "metadata": {},
   "outputs": [
    {
     "name": "stdout",
     "output_type": "stream",
     "text": [
      "95.21680969576468\n"
     ]
    }
   ],
   "source": [
    "preds = model.predict(xgb.DMatrix(val_features))\n",
    "print(custom_weighted_error(sample_val_targets, preds.round(2))/len(preds) * 100)"
   ]
  },
  {
   "cell_type": "code",
   "execution_count": 34,
   "metadata": {},
   "outputs": [],
   "source": [
    "window_size = 10# Adjust the window size as needed\n",
    "smoothed_preds = pd.Series(preds.round(2)).rolling(window=window_size, min_periods=1).mean()"
   ]
  },
  {
   "cell_type": "code",
   "execution_count": 35,
   "metadata": {},
   "outputs": [
    {
     "name": "stdout",
     "output_type": "stream",
     "text": [
      "95.32828467420067\n"
     ]
    }
   ],
   "source": [
    "print(custom_weighted_error(sample_val_targets.to_numpy(), smoothed_preds) /len(preds) * 100)"
   ]
  },
  {
   "cell_type": "code",
   "execution_count": 36,
   "metadata": {},
   "outputs": [],
   "source": [
    "abs_errors_array = np.abs(smoothed_preds - sample_val_targets.to_numpy())"
   ]
  },
  {
   "cell_type": "code",
   "execution_count": 37,
   "metadata": {},
   "outputs": [
    {
     "data": {
      "text/plain": [
       "95.95583397903539"
      ]
     },
     "execution_count": 37,
     "metadata": {},
     "output_type": "execute_result"
    }
   ],
   "source": [
    "calculate_points(abs_errors_array)"
   ]
  },
  {
   "cell_type": "code",
   "execution_count": 33,
   "metadata": {},
   "outputs": [
    {
     "data": {
      "text/plain": [
       "<matplotlib.legend.Legend at 0x1ea91498670>"
      ]
     },
     "execution_count": 33,
     "metadata": {},
     "output_type": "execute_result"
    }
   ],
   "source": [
    "import matplotlib.pyplot as plt\n",
    "%matplotlib qt\n",
    "# plt.plot(sample_val_targets.to_numpy().flatten(), label='true')\n",
    "plt.plot(preds.round(2), label='preds')\n",
    "plt.plot(smoothed_preds, label='smooth')\n",
    "\n",
    "plt.legend()"
   ]
  },
  {
   "cell_type": "code",
   "execution_count": 47,
   "metadata": {},
   "outputs": [
    {
     "data": {
      "text/plain": [
       "<matplotlib.legend.Legend at 0x1f9eec38eb0>"
      ]
     },
     "execution_count": 47,
     "metadata": {},
     "output_type": "execute_result"
    }
   ],
   "source": [
    "import matplotlib.pyplot as plt\n",
    "%matplotlib qt\n",
    "plt.plot(np.abs(sample_val_targets_1.to_numpy().flatten() - preds), label='normal')\n",
    "plt.plot(np.abs(sample_val_targets_1.to_numpy().flatten() - smoothed_preds), label='smooth')\n",
    "plt.legend()"
   ]
  },
  {
   "cell_type": "code",
   "execution_count": null,
   "metadata": {},
   "outputs": [],
   "source": []
  },
  {
   "cell_type": "code",
   "execution_count": null,
   "metadata": {},
   "outputs": [],
   "source": []
  },
  {
   "cell_type": "code",
   "execution_count": null,
   "metadata": {},
   "outputs": [],
   "source": []
  },
  {
   "cell_type": "code",
   "execution_count": null,
   "metadata": {},
   "outputs": [],
   "source": []
  },
  {
   "cell_type": "code",
   "execution_count": null,
   "metadata": {},
   "outputs": [],
   "source": []
  },
  {
   "cell_type": "code",
   "execution_count": null,
   "metadata": {},
   "outputs": [],
   "source": []
  },
  {
   "cell_type": "code",
   "execution_count": null,
   "metadata": {},
   "outputs": [],
   "source": []
  },
  {
   "cell_type": "code",
   "execution_count": null,
   "metadata": {},
   "outputs": [],
   "source": []
  },
  {
   "cell_type": "code",
   "execution_count": null,
   "metadata": {},
   "outputs": [],
   "source": []
  },
  {
   "cell_type": "code",
   "execution_count": null,
   "metadata": {},
   "outputs": [],
   "source": []
  }
 ],
 "metadata": {
  "kernelspec": {
   "display_name": "base",
   "language": "python",
   "name": "python3"
  },
  "language_info": {
   "codemirror_mode": {
    "name": "ipython",
    "version": 3
   },
   "file_extension": ".py",
   "mimetype": "text/x-python",
   "name": "python",
   "nbconvert_exporter": "python",
   "pygments_lexer": "ipython3",
   "version": "3.9.12"
  }
 },
 "nbformat": 4,
 "nbformat_minor": 2
}
