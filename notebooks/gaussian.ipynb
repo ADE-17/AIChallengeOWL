{
 "cells": [
  {
   "cell_type": "code",
   "execution_count": 9,
   "metadata": {},
   "outputs": [],
   "source": [
    "from sklearn.gaussian_process import GaussianProcessRegressor\n",
    "from sklearn.gaussian_process.kernels import RBF, ConstantKernel as C\n",
    "from sklearn.preprocessing import StandardScaler\n",
    "import pandas as pd\n",
    "import os\n",
    "import numpy as np"
   ]
  },
  {
   "cell_type": "code",
   "execution_count": 3,
   "metadata": {},
   "outputs": [],
   "source": [
    "root_path = r'C:\\Users\\ADE17\\Desktop\\Masters\\Projects\\AIChallenge_OWL\\SollIch-Hackathon_Daten\\Data_Participants3'\n",
    "def load_data(root_path, mode='train'):\n",
    "    data_dict = {}\n",
    "    if mode == 'train':\n",
    "        x_folder = \"Train_X\"\n",
    "        y_folder = \"Train_Y\"\n",
    "    else:\n",
    "        x_folder = \"Eval_X\"\n",
    "        y_folder = \"Eval_Y\"\n",
    "    x_files = os.listdir(os.path.join(root_path, x_folder))\n",
    "    y_files = os.listdir(os.path.join(root_path, y_folder))\n",
    "\n",
    "    for x_file, y_file in zip(x_files, y_files):\n",
    "        if x_file.endswith('.pq') and y_file.endswith('.pq'):\n",
    "            path_X = os.path.join(x_folder, x_file)\n",
    "            path_Y = os.path.join(y_folder, y_file)\n",
    "            df_X = pd.read_parquet(os.path.join(root_path, path_X))\n",
    "            df_Y = pd.read_parquet(os.path.join(root_path, path_Y))\n",
    "            # target_col_1 = df_X['ProzessData_ActData_AB1_Temperature_DR1_WaterMixingStage']\n",
    "            targets = df_Y\n",
    "            # df_X = df_X.drop(['ProzessData_ActData_AB1_Temperature_DR1_WaterMixingStage'], axis=1)\n",
    "            date = x_file.split('_')[1:]  # Extracting month and day\n",
    "            date_key = '_'.join(date)[:5]  # Creating the 'MM_DD' format\n",
    "            data_dict[date_key] = {'features': df_X, 'targets': targets}\n",
    "\n",
    "    return data_dict\n",
    "\n",
    "train_data = load_data(root_path)\n",
    "val_data = load_data(root_path, mode='val')\n",
    "def custom_weighted_error(true_values, predicted_values):\n",
    "    absolute_errors = np.abs(true_values - predicted_values)\n",
    "    \n",
    "    points = 0\n",
    "    for error in absolute_errors:\n",
    "        if error <= 0.05:\n",
    "            points += 1\n",
    "        elif 0.05 < error <= 0.1:\n",
    "            points += 0.5\n",
    "        elif 0.1 < error <= 0.5:\n",
    "            points += 0.25\n",
    "        else:\n",
    "            points += 0\n",
    "    \n",
    "    return points \n",
    "\n",
    "def custom_weighted_error_xgb(preds, dtrain):\n",
    "    true_values = dtrain.get_label()\n",
    "    \n",
    "    absolute_errors = np.abs(true_values - preds)\n",
    "    \n",
    "    points = 0\n",
    "    for error in absolute_errors:\n",
    "        if error <= 0.05:\n",
    "            points += 1\n",
    "        elif 0.05 < error <= 0.1:\n",
    "            points += 0.5\n",
    "        elif 0.1 < error <= 0.5:\n",
    "            points += 0.25\n",
    "        else:\n",
    "            points += 0\n",
    "    \n",
    "    return 'custom_weighted_error', points / len(preds) * 100\n",
    "\n",
    "def custom_error_duration(preds, dtrain):\n",
    "    true_values = dtrain.get_label()\n",
    "    \n",
    "    preds_array = preds.astype(float)\n",
    "    \n",
    "    absolute_errors = np.abs(true_values - preds_array)\n",
    "    \n",
    "    error_less_than_01 = np.sum(absolute_errors < 0.1) / len(absolute_errors)\n",
    "    \n",
    "    error_intervals = []\n",
    "    current_interval = 0\n",
    "    for error in absolute_errors:\n",
    "        if error > 0.1:\n",
    "            current_interval += 1\n",
    "        else:\n",
    "            if current_interval > 0:\n",
    "                error_intervals.append(current_interval)\n",
    "                current_interval = 0\n",
    "    \n",
    "    max_intervals_1 = len(absolute_errors) / 2\n",
    "    max_intervals_2 = len(absolute_errors) / 8\n",
    "    \n",
    "    points = 0\n",
    "    for interval in error_intervals:\n",
    "        if interval <= 1:\n",
    "            points += max(0, 0.5 - (interval / max_intervals_1))\n",
    "        elif 2 <= interval <= 10:\n",
    "            points += max(0, 0.25 - (interval / max_intervals_2))\n",
    "    \n",
    "    # Calculate the error duration metric\n",
    "    error_duration_points = (1 - error_less_than_01) * 100 + points\n",
    "    \n",
    "    return 'custom_error_duration', error_duration_points \n",
    "def add_time_columns(df):\n",
    "    df['Hour'] = df.index.hour\n",
    "    df['Minute'] = df.index.minute\n",
    "    df['Second'] = df.index.second\n",
    "    return df\n",
    "def create_time_series_windows(data, window_size):\n",
    "    windows_X = []\n",
    "    for i in range(len(data) - window_size):\n",
    "        window = data.iloc[i:i + window_size]\n",
    "\n",
    "        windows_X.append(window.values.flatten())\n",
    "\n",
    "    return np.array(windows_X)"
   ]
  },
  {
   "cell_type": "code",
   "execution_count": 13,
   "metadata": {},
   "outputs": [],
   "source": [
    "sample_train_features_1 = add_time_columns(train_data['03_14']['features'])\n",
    "sample_train_targets_1 = train_data['03_14']['targets']\n",
    "sample_train_features_2 = add_time_columns(train_data['03_15']['features'])\n",
    "sample_train_targets_2 = train_data['03_15']['targets']\n",
    "\n",
    "final_train_feat = pd.concat([sample_train_features_1, sample_train_features_2], axis=0)\n",
    "final_train_feat = final_train_feat.drop(['ProzessData_ActData_AB1_Temperature_DS1_WaterPipe'], axis=1)\n",
    "\n",
    "final_train_targets = pd.concat([sample_train_targets_1, sample_train_targets_2], axis=0)\n",
    "\n",
    "sample_val_features = add_time_columns(val_data['03_16']['features'])\n",
    "sample_val_targets = val_data['03_16']['targets']"
   ]
  },
  {
   "cell_type": "code",
   "execution_count": 14,
   "metadata": {},
   "outputs": [],
   "source": [
    "kernel = C(1.0, (1e-3, 1e3)) * RBF(1.0, (1e-2, 1e2))\n",
    "gpr = GaussianProcessRegressor(kernel=kernel, n_restarts_optimizer=10)"
   ]
  },
  {
   "cell_type": "code",
   "execution_count": 15,
   "metadata": {},
   "outputs": [],
   "source": [
    "scaler = StandardScaler()\n",
    "sample_train_features_1_scaled = scaler.fit_transform(sample_train_features_1)"
   ]
  },
  {
   "cell_type": "code",
   "execution_count": 16,
   "metadata": {},
   "outputs": [
    {
     "ename": "MemoryError",
     "evalue": "Unable to allocate 34.9 GiB for an array with shape (68401, 68401) and data type float64",
     "output_type": "error",
     "traceback": [
      "\u001b[1;31m---------------------------------------------------------------------------\u001b[0m",
      "\u001b[1;31mMemoryError\u001b[0m                               Traceback (most recent call last)",
      "\u001b[1;32mc:\\Users\\ADE17\\Desktop\\Masters\\Projects\\AIChallenge_OWL\\notebooks\\gaussian.ipynb Cell 6\u001b[0m line \u001b[0;36m1\n\u001b[1;32m----> <a href='vscode-notebook-cell:/c%3A/Users/ADE17/Desktop/Masters/Projects/AIChallenge_OWL/notebooks/gaussian.ipynb#W2sZmlsZQ%3D%3D?line=0'>1</a>\u001b[0m gpr\u001b[39m.\u001b[39;49mfit(sample_train_features_1, sample_train_targets_1)\n",
      "File \u001b[1;32mc:\\Users\\ADE17\\anaconda3\\anaconda2\\lib\\site-packages\\sklearn\\gaussian_process\\_gpr.py:286\u001b[0m, in \u001b[0;36mGaussianProcessRegressor.fit\u001b[1;34m(self, X, y)\u001b[0m\n\u001b[0;32m    281\u001b[0m         \u001b[39mreturn\u001b[39;00m \u001b[39m-\u001b[39m\u001b[39mself\u001b[39m\u001b[39m.\u001b[39mlog_marginal_likelihood(theta, clone_kernel\u001b[39m=\u001b[39m\u001b[39mFalse\u001b[39;00m)\n\u001b[0;32m    283\u001b[0m \u001b[39m# First optimize starting from theta specified in kernel\u001b[39;00m\n\u001b[0;32m    284\u001b[0m optima \u001b[39m=\u001b[39m [\n\u001b[0;32m    285\u001b[0m     (\n\u001b[1;32m--> 286\u001b[0m         \u001b[39mself\u001b[39;49m\u001b[39m.\u001b[39;49m_constrained_optimization(\n\u001b[0;32m    287\u001b[0m             obj_func, \u001b[39mself\u001b[39;49m\u001b[39m.\u001b[39;49mkernel_\u001b[39m.\u001b[39;49mtheta, \u001b[39mself\u001b[39;49m\u001b[39m.\u001b[39;49mkernel_\u001b[39m.\u001b[39;49mbounds\n\u001b[0;32m    288\u001b[0m         )\n\u001b[0;32m    289\u001b[0m     )\n\u001b[0;32m    290\u001b[0m ]\n\u001b[0;32m    292\u001b[0m \u001b[39m# Additional runs are performed from log-uniform chosen initial\u001b[39;00m\n\u001b[0;32m    293\u001b[0m \u001b[39m# theta\u001b[39;00m\n\u001b[0;32m    294\u001b[0m \u001b[39mif\u001b[39;00m \u001b[39mself\u001b[39m\u001b[39m.\u001b[39mn_restarts_optimizer \u001b[39m>\u001b[39m \u001b[39m0\u001b[39m:\n",
      "File \u001b[1;32mc:\\Users\\ADE17\\anaconda3\\anaconda2\\lib\\site-packages\\sklearn\\gaussian_process\\_gpr.py:622\u001b[0m, in \u001b[0;36mGaussianProcessRegressor._constrained_optimization\u001b[1;34m(self, obj_func, initial_theta, bounds)\u001b[0m\n\u001b[0;32m    620\u001b[0m \u001b[39mdef\u001b[39;00m \u001b[39m_constrained_optimization\u001b[39m(\u001b[39mself\u001b[39m, obj_func, initial_theta, bounds):\n\u001b[0;32m    621\u001b[0m     \u001b[39mif\u001b[39;00m \u001b[39mself\u001b[39m\u001b[39m.\u001b[39moptimizer \u001b[39m==\u001b[39m \u001b[39m\"\u001b[39m\u001b[39mfmin_l_bfgs_b\u001b[39m\u001b[39m\"\u001b[39m:\n\u001b[1;32m--> 622\u001b[0m         opt_res \u001b[39m=\u001b[39m scipy\u001b[39m.\u001b[39;49moptimize\u001b[39m.\u001b[39;49mminimize(\n\u001b[0;32m    623\u001b[0m             obj_func,\n\u001b[0;32m    624\u001b[0m             initial_theta,\n\u001b[0;32m    625\u001b[0m             method\u001b[39m=\u001b[39;49m\u001b[39m\"\u001b[39;49m\u001b[39mL-BFGS-B\u001b[39;49m\u001b[39m\"\u001b[39;49m,\n\u001b[0;32m    626\u001b[0m             jac\u001b[39m=\u001b[39;49m\u001b[39mTrue\u001b[39;49;00m,\n\u001b[0;32m    627\u001b[0m             bounds\u001b[39m=\u001b[39;49mbounds,\n\u001b[0;32m    628\u001b[0m         )\n\u001b[0;32m    629\u001b[0m         _check_optimize_result(\u001b[39m\"\u001b[39m\u001b[39mlbfgs\u001b[39m\u001b[39m\"\u001b[39m, opt_res)\n\u001b[0;32m    630\u001b[0m         theta_opt, func_min \u001b[39m=\u001b[39m opt_res\u001b[39m.\u001b[39mx, opt_res\u001b[39m.\u001b[39mfun\n",
      "File \u001b[1;32mc:\\Users\\ADE17\\anaconda3\\anaconda2\\lib\\site-packages\\scipy\\optimize\\_minimize.py:623\u001b[0m, in \u001b[0;36mminimize\u001b[1;34m(fun, x0, args, method, jac, hess, hessp, bounds, constraints, tol, callback, options)\u001b[0m\n\u001b[0;32m    620\u001b[0m     \u001b[39mreturn\u001b[39;00m _minimize_newtoncg(fun, x0, args, jac, hess, hessp, callback,\n\u001b[0;32m    621\u001b[0m                               \u001b[39m*\u001b[39m\u001b[39m*\u001b[39moptions)\n\u001b[0;32m    622\u001b[0m \u001b[39melif\u001b[39;00m meth \u001b[39m==\u001b[39m \u001b[39m'\u001b[39m\u001b[39ml-bfgs-b\u001b[39m\u001b[39m'\u001b[39m:\n\u001b[1;32m--> 623\u001b[0m     \u001b[39mreturn\u001b[39;00m _minimize_lbfgsb(fun, x0, args, jac, bounds,\n\u001b[0;32m    624\u001b[0m                             callback\u001b[39m=\u001b[39mcallback, \u001b[39m*\u001b[39m\u001b[39m*\u001b[39moptions)\n\u001b[0;32m    625\u001b[0m \u001b[39melif\u001b[39;00m meth \u001b[39m==\u001b[39m \u001b[39m'\u001b[39m\u001b[39mtnc\u001b[39m\u001b[39m'\u001b[39m:\n\u001b[0;32m    626\u001b[0m     \u001b[39mreturn\u001b[39;00m _minimize_tnc(fun, x0, args, jac, bounds, callback\u001b[39m=\u001b[39mcallback,\n\u001b[0;32m    627\u001b[0m                          \u001b[39m*\u001b[39m\u001b[39m*\u001b[39moptions)\n",
      "File \u001b[1;32mc:\\Users\\ADE17\\anaconda3\\anaconda2\\lib\\site-packages\\scipy\\optimize\\lbfgsb.py:306\u001b[0m, in \u001b[0;36m_minimize_lbfgsb\u001b[1;34m(fun, x0, args, jac, bounds, disp, maxcor, ftol, gtol, eps, maxfun, maxiter, iprint, callback, maxls, finite_diff_rel_step, **unknown_options)\u001b[0m\n\u001b[0;32m    303\u001b[0m     \u001b[39melse\u001b[39;00m:\n\u001b[0;32m    304\u001b[0m         iprint \u001b[39m=\u001b[39m disp\n\u001b[1;32m--> 306\u001b[0m sf \u001b[39m=\u001b[39m _prepare_scalar_function(fun, x0, jac\u001b[39m=\u001b[39;49mjac, args\u001b[39m=\u001b[39;49margs, epsilon\u001b[39m=\u001b[39;49meps,\n\u001b[0;32m    307\u001b[0m                               bounds\u001b[39m=\u001b[39;49mnew_bounds,\n\u001b[0;32m    308\u001b[0m                               finite_diff_rel_step\u001b[39m=\u001b[39;49mfinite_diff_rel_step)\n\u001b[0;32m    310\u001b[0m func_and_grad \u001b[39m=\u001b[39m sf\u001b[39m.\u001b[39mfun_and_grad\n\u001b[0;32m    312\u001b[0m fortran_int \u001b[39m=\u001b[39m _lbfgsb\u001b[39m.\u001b[39mtypes\u001b[39m.\u001b[39mintvar\u001b[39m.\u001b[39mdtype\n",
      "File \u001b[1;32mc:\\Users\\ADE17\\anaconda3\\anaconda2\\lib\\site-packages\\scipy\\optimize\\optimize.py:261\u001b[0m, in \u001b[0;36m_prepare_scalar_function\u001b[1;34m(fun, x0, jac, args, bounds, epsilon, finite_diff_rel_step, hess)\u001b[0m\n\u001b[0;32m    257\u001b[0m     bounds \u001b[39m=\u001b[39m (\u001b[39m-\u001b[39mnp\u001b[39m.\u001b[39minf, np\u001b[39m.\u001b[39minf)\n\u001b[0;32m    259\u001b[0m \u001b[39m# ScalarFunction caches. Reuse of fun(x) during grad\u001b[39;00m\n\u001b[0;32m    260\u001b[0m \u001b[39m# calculation reduces overall function evaluations.\u001b[39;00m\n\u001b[1;32m--> 261\u001b[0m sf \u001b[39m=\u001b[39m ScalarFunction(fun, x0, args, grad, hess,\n\u001b[0;32m    262\u001b[0m                     finite_diff_rel_step, bounds, epsilon\u001b[39m=\u001b[39;49mepsilon)\n\u001b[0;32m    264\u001b[0m \u001b[39mreturn\u001b[39;00m sf\n",
      "File \u001b[1;32mc:\\Users\\ADE17\\anaconda3\\anaconda2\\lib\\site-packages\\scipy\\optimize\\_differentiable_functions.py:140\u001b[0m, in \u001b[0;36mScalarFunction.__init__\u001b[1;34m(self, fun, x0, args, grad, hess, finite_diff_rel_step, finite_diff_bounds, epsilon)\u001b[0m\n\u001b[0;32m    137\u001b[0m     \u001b[39mself\u001b[39m\u001b[39m.\u001b[39mf \u001b[39m=\u001b[39m fun_wrapped(\u001b[39mself\u001b[39m\u001b[39m.\u001b[39mx)\n\u001b[0;32m    139\u001b[0m \u001b[39mself\u001b[39m\u001b[39m.\u001b[39m_update_fun_impl \u001b[39m=\u001b[39m update_fun\n\u001b[1;32m--> 140\u001b[0m \u001b[39mself\u001b[39;49m\u001b[39m.\u001b[39;49m_update_fun()\n\u001b[0;32m    142\u001b[0m \u001b[39m# Gradient evaluation\u001b[39;00m\n\u001b[0;32m    143\u001b[0m \u001b[39mif\u001b[39;00m callable(grad):\n",
      "File \u001b[1;32mc:\\Users\\ADE17\\anaconda3\\anaconda2\\lib\\site-packages\\scipy\\optimize\\_differentiable_functions.py:233\u001b[0m, in \u001b[0;36mScalarFunction._update_fun\u001b[1;34m(self)\u001b[0m\n\u001b[0;32m    231\u001b[0m \u001b[39mdef\u001b[39;00m \u001b[39m_update_fun\u001b[39m(\u001b[39mself\u001b[39m):\n\u001b[0;32m    232\u001b[0m     \u001b[39mif\u001b[39;00m \u001b[39mnot\u001b[39;00m \u001b[39mself\u001b[39m\u001b[39m.\u001b[39mf_updated:\n\u001b[1;32m--> 233\u001b[0m         \u001b[39mself\u001b[39;49m\u001b[39m.\u001b[39;49m_update_fun_impl()\n\u001b[0;32m    234\u001b[0m         \u001b[39mself\u001b[39m\u001b[39m.\u001b[39mf_updated \u001b[39m=\u001b[39m \u001b[39mTrue\u001b[39;00m\n",
      "File \u001b[1;32mc:\\Users\\ADE17\\anaconda3\\anaconda2\\lib\\site-packages\\scipy\\optimize\\_differentiable_functions.py:137\u001b[0m, in \u001b[0;36mScalarFunction.__init__.<locals>.update_fun\u001b[1;34m()\u001b[0m\n\u001b[0;32m    136\u001b[0m \u001b[39mdef\u001b[39;00m \u001b[39mupdate_fun\u001b[39m():\n\u001b[1;32m--> 137\u001b[0m     \u001b[39mself\u001b[39m\u001b[39m.\u001b[39mf \u001b[39m=\u001b[39m fun_wrapped(\u001b[39mself\u001b[39;49m\u001b[39m.\u001b[39;49mx)\n",
      "File \u001b[1;32mc:\\Users\\ADE17\\anaconda3\\anaconda2\\lib\\site-packages\\scipy\\optimize\\_differentiable_functions.py:134\u001b[0m, in \u001b[0;36mScalarFunction.__init__.<locals>.fun_wrapped\u001b[1;34m(x)\u001b[0m\n\u001b[0;32m    130\u001b[0m \u001b[39mself\u001b[39m\u001b[39m.\u001b[39mnfev \u001b[39m+\u001b[39m\u001b[39m=\u001b[39m \u001b[39m1\u001b[39m\n\u001b[0;32m    131\u001b[0m \u001b[39m# Send a copy because the user may overwrite it.\u001b[39;00m\n\u001b[0;32m    132\u001b[0m \u001b[39m# Overwriting results in undefined behaviour because\u001b[39;00m\n\u001b[0;32m    133\u001b[0m \u001b[39m# fun(self.x) will change self.x, with the two no longer linked.\u001b[39;00m\n\u001b[1;32m--> 134\u001b[0m \u001b[39mreturn\u001b[39;00m fun(np\u001b[39m.\u001b[39;49mcopy(x), \u001b[39m*\u001b[39;49margs)\n",
      "File \u001b[1;32mc:\\Users\\ADE17\\anaconda3\\anaconda2\\lib\\site-packages\\scipy\\optimize\\optimize.py:74\u001b[0m, in \u001b[0;36mMemoizeJac.__call__\u001b[1;34m(self, x, *args)\u001b[0m\n\u001b[0;32m     72\u001b[0m \u001b[39mdef\u001b[39;00m \u001b[39m__call__\u001b[39m(\u001b[39mself\u001b[39m, x, \u001b[39m*\u001b[39margs):\n\u001b[0;32m     73\u001b[0m     \u001b[39m\"\"\" returns the the function value \"\"\"\u001b[39;00m\n\u001b[1;32m---> 74\u001b[0m     \u001b[39mself\u001b[39;49m\u001b[39m.\u001b[39;49m_compute_if_needed(x, \u001b[39m*\u001b[39;49margs)\n\u001b[0;32m     75\u001b[0m     \u001b[39mreturn\u001b[39;00m \u001b[39mself\u001b[39m\u001b[39m.\u001b[39m_value\n",
      "File \u001b[1;32mc:\\Users\\ADE17\\anaconda3\\anaconda2\\lib\\site-packages\\scipy\\optimize\\optimize.py:68\u001b[0m, in \u001b[0;36mMemoizeJac._compute_if_needed\u001b[1;34m(self, x, *args)\u001b[0m\n\u001b[0;32m     66\u001b[0m \u001b[39mif\u001b[39;00m \u001b[39mnot\u001b[39;00m np\u001b[39m.\u001b[39mall(x \u001b[39m==\u001b[39m \u001b[39mself\u001b[39m\u001b[39m.\u001b[39mx) \u001b[39mor\u001b[39;00m \u001b[39mself\u001b[39m\u001b[39m.\u001b[39m_value \u001b[39mis\u001b[39;00m \u001b[39mNone\u001b[39;00m \u001b[39mor\u001b[39;00m \u001b[39mself\u001b[39m\u001b[39m.\u001b[39mjac \u001b[39mis\u001b[39;00m \u001b[39mNone\u001b[39;00m:\n\u001b[0;32m     67\u001b[0m     \u001b[39mself\u001b[39m\u001b[39m.\u001b[39mx \u001b[39m=\u001b[39m np\u001b[39m.\u001b[39masarray(x)\u001b[39m.\u001b[39mcopy()\n\u001b[1;32m---> 68\u001b[0m     fg \u001b[39m=\u001b[39m \u001b[39mself\u001b[39;49m\u001b[39m.\u001b[39;49mfun(x, \u001b[39m*\u001b[39;49margs)\n\u001b[0;32m     69\u001b[0m     \u001b[39mself\u001b[39m\u001b[39m.\u001b[39mjac \u001b[39m=\u001b[39m fg[\u001b[39m1\u001b[39m]\n\u001b[0;32m     70\u001b[0m     \u001b[39mself\u001b[39m\u001b[39m.\u001b[39m_value \u001b[39m=\u001b[39m fg[\u001b[39m0\u001b[39m]\n",
      "File \u001b[1;32mc:\\Users\\ADE17\\anaconda3\\anaconda2\\lib\\site-packages\\sklearn\\gaussian_process\\_gpr.py:276\u001b[0m, in \u001b[0;36mGaussianProcessRegressor.fit.<locals>.obj_func\u001b[1;34m(theta, eval_gradient)\u001b[0m\n\u001b[0;32m    274\u001b[0m \u001b[39mdef\u001b[39;00m \u001b[39mobj_func\u001b[39m(theta, eval_gradient\u001b[39m=\u001b[39m\u001b[39mTrue\u001b[39;00m):\n\u001b[0;32m    275\u001b[0m     \u001b[39mif\u001b[39;00m eval_gradient:\n\u001b[1;32m--> 276\u001b[0m         lml, grad \u001b[39m=\u001b[39m \u001b[39mself\u001b[39;49m\u001b[39m.\u001b[39;49mlog_marginal_likelihood(\n\u001b[0;32m    277\u001b[0m             theta, eval_gradient\u001b[39m=\u001b[39;49m\u001b[39mTrue\u001b[39;49;00m, clone_kernel\u001b[39m=\u001b[39;49m\u001b[39mFalse\u001b[39;49;00m\n\u001b[0;32m    278\u001b[0m         )\n\u001b[0;32m    279\u001b[0m         \u001b[39mreturn\u001b[39;00m \u001b[39m-\u001b[39mlml, \u001b[39m-\u001b[39mgrad\n\u001b[0;32m    280\u001b[0m     \u001b[39melse\u001b[39;00m:\n",
      "File \u001b[1;32mc:\\Users\\ADE17\\anaconda3\\anaconda2\\lib\\site-packages\\sklearn\\gaussian_process\\_gpr.py:546\u001b[0m, in \u001b[0;36mGaussianProcessRegressor.log_marginal_likelihood\u001b[1;34m(self, theta, eval_gradient, clone_kernel)\u001b[0m\n\u001b[0;32m    543\u001b[0m     kernel\u001b[39m.\u001b[39mtheta \u001b[39m=\u001b[39m theta\n\u001b[0;32m    545\u001b[0m \u001b[39mif\u001b[39;00m eval_gradient:\n\u001b[1;32m--> 546\u001b[0m     K, K_gradient \u001b[39m=\u001b[39m kernel(\u001b[39mself\u001b[39;49m\u001b[39m.\u001b[39;49mX_train_, eval_gradient\u001b[39m=\u001b[39;49m\u001b[39mTrue\u001b[39;49;00m)\n\u001b[0;32m    547\u001b[0m \u001b[39melse\u001b[39;00m:\n\u001b[0;32m    548\u001b[0m     K \u001b[39m=\u001b[39m kernel(\u001b[39mself\u001b[39m\u001b[39m.\u001b[39mX_train_)\n",
      "File \u001b[1;32mc:\\Users\\ADE17\\anaconda3\\anaconda2\\lib\\site-packages\\sklearn\\gaussian_process\\kernels.py:940\u001b[0m, in \u001b[0;36mProduct.__call__\u001b[1;34m(self, X, Y, eval_gradient)\u001b[0m\n\u001b[0;32m    912\u001b[0m \u001b[39m\"\"\"Return the kernel k(X, Y) and optionally its gradient.\u001b[39;00m\n\u001b[0;32m    913\u001b[0m \n\u001b[0;32m    914\u001b[0m \u001b[39mParameters\u001b[39;00m\n\u001b[1;32m   (...)\u001b[0m\n\u001b[0;32m    937\u001b[0m \u001b[39m    is True.\u001b[39;00m\n\u001b[0;32m    938\u001b[0m \u001b[39m\"\"\"\u001b[39;00m\n\u001b[0;32m    939\u001b[0m \u001b[39mif\u001b[39;00m eval_gradient:\n\u001b[1;32m--> 940\u001b[0m     K1, K1_gradient \u001b[39m=\u001b[39m \u001b[39mself\u001b[39;49m\u001b[39m.\u001b[39;49mk1(X, Y, eval_gradient\u001b[39m=\u001b[39;49m\u001b[39mTrue\u001b[39;49;00m)\n\u001b[0;32m    941\u001b[0m     K2, K2_gradient \u001b[39m=\u001b[39m \u001b[39mself\u001b[39m\u001b[39m.\u001b[39mk2(X, Y, eval_gradient\u001b[39m=\u001b[39m\u001b[39mTrue\u001b[39;00m)\n\u001b[0;32m    942\u001b[0m     \u001b[39mreturn\u001b[39;00m K1 \u001b[39m*\u001b[39m K2, np\u001b[39m.\u001b[39mdstack(\n\u001b[0;32m    943\u001b[0m         (K1_gradient \u001b[39m*\u001b[39m K2[:, :, np\u001b[39m.\u001b[39mnewaxis], K2_gradient \u001b[39m*\u001b[39m K1[:, :, np\u001b[39m.\u001b[39mnewaxis])\n\u001b[0;32m    944\u001b[0m     )\n",
      "File \u001b[1;32mc:\\Users\\ADE17\\anaconda3\\anaconda2\\lib\\site-packages\\sklearn\\gaussian_process\\kernels.py:1253\u001b[0m, in \u001b[0;36mConstantKernel.__call__\u001b[1;34m(self, X, Y, eval_gradient)\u001b[0m\n\u001b[0;32m   1250\u001b[0m \u001b[39melif\u001b[39;00m eval_gradient:\n\u001b[0;32m   1251\u001b[0m     \u001b[39mraise\u001b[39;00m \u001b[39mValueError\u001b[39;00m(\u001b[39m\"\u001b[39m\u001b[39mGradient can only be evaluated when Y is None.\u001b[39m\u001b[39m\"\u001b[39m)\n\u001b[1;32m-> 1253\u001b[0m K \u001b[39m=\u001b[39m np\u001b[39m.\u001b[39;49mfull(\n\u001b[0;32m   1254\u001b[0m     (_num_samples(X), _num_samples(Y)),\n\u001b[0;32m   1255\u001b[0m     \u001b[39mself\u001b[39;49m\u001b[39m.\u001b[39;49mconstant_value,\n\u001b[0;32m   1256\u001b[0m     dtype\u001b[39m=\u001b[39;49mnp\u001b[39m.\u001b[39;49marray(\u001b[39mself\u001b[39;49m\u001b[39m.\u001b[39;49mconstant_value)\u001b[39m.\u001b[39;49mdtype,\n\u001b[0;32m   1257\u001b[0m )\n\u001b[0;32m   1258\u001b[0m \u001b[39mif\u001b[39;00m eval_gradient:\n\u001b[0;32m   1259\u001b[0m     \u001b[39mif\u001b[39;00m \u001b[39mnot\u001b[39;00m \u001b[39mself\u001b[39m\u001b[39m.\u001b[39mhyperparameter_constant_value\u001b[39m.\u001b[39mfixed:\n",
      "File \u001b[1;32mc:\\Users\\ADE17\\anaconda3\\anaconda2\\lib\\site-packages\\numpy\\core\\numeric.py:343\u001b[0m, in \u001b[0;36mfull\u001b[1;34m(shape, fill_value, dtype, order, like)\u001b[0m\n\u001b[0;32m    341\u001b[0m     fill_value \u001b[39m=\u001b[39m asarray(fill_value)\n\u001b[0;32m    342\u001b[0m     dtype \u001b[39m=\u001b[39m fill_value\u001b[39m.\u001b[39mdtype\n\u001b[1;32m--> 343\u001b[0m a \u001b[39m=\u001b[39m empty(shape, dtype, order)\n\u001b[0;32m    344\u001b[0m multiarray\u001b[39m.\u001b[39mcopyto(a, fill_value, casting\u001b[39m=\u001b[39m\u001b[39m'\u001b[39m\u001b[39munsafe\u001b[39m\u001b[39m'\u001b[39m)\n\u001b[0;32m    345\u001b[0m \u001b[39mreturn\u001b[39;00m a\n",
      "\u001b[1;31mMemoryError\u001b[0m: Unable to allocate 34.9 GiB for an array with shape (68401, 68401) and data type float64"
     ]
    }
   ],
   "source": [
    "gpr.fit(sample_train_features_1, sample_train_targets_1)"
   ]
  },
  {
   "cell_type": "code",
   "execution_count": null,
   "metadata": {},
   "outputs": [],
   "source": []
  },
  {
   "cell_type": "code",
   "execution_count": null,
   "metadata": {},
   "outputs": [],
   "source": []
  },
  {
   "cell_type": "code",
   "execution_count": null,
   "metadata": {},
   "outputs": [],
   "source": []
  },
  {
   "cell_type": "code",
   "execution_count": null,
   "metadata": {},
   "outputs": [],
   "source": []
  },
  {
   "cell_type": "code",
   "execution_count": null,
   "metadata": {},
   "outputs": [],
   "source": []
  },
  {
   "cell_type": "code",
   "execution_count": null,
   "metadata": {},
   "outputs": [],
   "source": []
  },
  {
   "cell_type": "code",
   "execution_count": null,
   "metadata": {},
   "outputs": [],
   "source": []
  },
  {
   "cell_type": "code",
   "execution_count": null,
   "metadata": {},
   "outputs": [],
   "source": []
  },
  {
   "cell_type": "code",
   "execution_count": null,
   "metadata": {},
   "outputs": [],
   "source": []
  },
  {
   "cell_type": "code",
   "execution_count": null,
   "metadata": {},
   "outputs": [],
   "source": []
  },
  {
   "cell_type": "code",
   "execution_count": null,
   "metadata": {},
   "outputs": [],
   "source": []
  },
  {
   "cell_type": "code",
   "execution_count": null,
   "metadata": {},
   "outputs": [],
   "source": []
  },
  {
   "cell_type": "code",
   "execution_count": null,
   "metadata": {},
   "outputs": [],
   "source": []
  },
  {
   "cell_type": "code",
   "execution_count": null,
   "metadata": {},
   "outputs": [],
   "source": []
  },
  {
   "cell_type": "code",
   "execution_count": null,
   "metadata": {},
   "outputs": [],
   "source": []
  },
  {
   "cell_type": "code",
   "execution_count": null,
   "metadata": {},
   "outputs": [],
   "source": []
  },
  {
   "cell_type": "code",
   "execution_count": null,
   "metadata": {},
   "outputs": [],
   "source": []
  },
  {
   "cell_type": "code",
   "execution_count": null,
   "metadata": {},
   "outputs": [],
   "source": []
  },
  {
   "cell_type": "code",
   "execution_count": null,
   "metadata": {},
   "outputs": [],
   "source": []
  }
 ],
 "metadata": {
  "kernelspec": {
   "display_name": "base",
   "language": "python",
   "name": "python3"
  },
  "language_info": {
   "codemirror_mode": {
    "name": "ipython",
    "version": 3
   },
   "file_extension": ".py",
   "mimetype": "text/x-python",
   "name": "python",
   "nbconvert_exporter": "python",
   "pygments_lexer": "ipython3",
   "version": "3.9.12"
  }
 },
 "nbformat": 4,
 "nbformat_minor": 2
}
